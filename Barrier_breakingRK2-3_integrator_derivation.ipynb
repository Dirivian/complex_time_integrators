{
 "cells": [
  {
   "cell_type": "markdown",
   "metadata": {},
   "source": [
    "Here, we show the process of symbollically deriving the rk coefficients for the 2/3step integrator that breaks the order barrier."
   ]
  },
  {
   "cell_type": "code",
   "execution_count": 1,
   "metadata": {},
   "outputs": [],
   "source": [
    "import numpy as np\n",
    "import matplotlib.pyplot as plt\n",
    "import sympy as sp\n",
    "import scipy.optimize as opt"
   ]
  },
  {
   "cell_type": "markdown",
   "metadata": {},
   "source": [
    "Defining symbols"
   ]
  },
  {
   "cell_type": "code",
   "execution_count": 8,
   "metadata": {},
   "outputs": [],
   "source": [
    "w1, w2, a1, b1, a2, b2, c2, x1, x2, z1, z2, dt = sp.symbols('w1, w2, a1, b1, a2, b2, c2, x1, x2, z1, z2, dt')\n",
    "a, b, c, d, e = sp.symbols('a, b, c, d, e ')\n",
    "t, t0,  y = sp.symbols('t, t0, y')\n",
    "\n"
   ]
  },
  {
   "cell_type": "markdown",
   "metadata": {},
   "source": [
    "Making an optimization function that can solve order conditions with complex constraint to derive complex coefficients"
   ]
  },
  {
   "cell_type": "code",
   "execution_count": 9,
   "metadata": {},
   "outputs": [],
   "source": [
    "def optimize_path(num_steps, order, start, symbols, expr_list, targets_real = 0, targets_imag = 0, take_complex = 0, method = 'lm'):\n",
    "    '''\n",
    "    inputs:\n",
    "    \n",
    "    '''\n",
    "\n",
    "            \n",
    "    # declare 'dt' timestep symbol\n",
    "    dt = sp.symbols('dt')\n",
    "\n",
    "    w = expr_list\n",
    "        \n",
    "    # setup substituion variables for 'u + I*v' form\n",
    "    subs_u = sp.symbols(\"u:\" + str(len(symbols) ), real=True)\n",
    "    subs_v = sp.symbols(\"v:\" + str(len(symbols) ), real=True)\n",
    "\n",
    "    # setup factorial list because want linearity\n",
    "    if targets_real == 0:\n",
    "        targets_real = [1/np.math.factorial(i+2) for i in range(num_steps-1)]\n",
    "        targets_real.reverse()\n",
    "    \n",
    "    # substitute the coefficient expressions in 'w' with corresponding 'u + I*v'\n",
    "    eq = []\n",
    "    i = 0\n",
    "    for expression in w:\n",
    "        j = 0\n",
    "        new_expr_real = expression\n",
    "\n",
    "        for symbol in symbols:\n",
    "            new_expr_real = new_expr_real.subs(symbol, subs_u[j] + sp.I*subs_v[j])\n",
    "\n",
    "\n",
    "            j += 1\n",
    "        new_expr_real_part = new_expr_real.expand().as_real_imag()[0] - targets_real[i]\n",
    "        eq.append(new_expr_real_part)\n",
    "        if i <2:\n",
    "            new_expr_imag_part = new_expr_real.expand().as_real_imag()[1] \n",
    "            eq.append(new_expr_imag_part)\n",
    "\n",
    "            #expr2_real_part = expr2_real.expand().as_real_imag()[0] - targets_imag[i]\n",
    "            #eq.append(expr2_real_part)\n",
    "        i += 1\n",
    "        \n",
    "    for i in range(8):\n",
    "        eq.append(0)\n",
    "\n",
    "\n",
    "   \n",
    "    \n",
    "    # create single list of all symbols used\n",
    "    all_symbols = []\n",
    "    all_symbols.extend(subs_u[:])\n",
    "    all_symbols.extend(subs_v[:])  \n",
    "    print(len(eq))\n",
    "    \n",
    "    # create jacobian matrix\n",
    "    M = sp.zeros(len(eq),len(all_symbols))\n",
    "    z = 0\n",
    "    for i in range(len(eq)):\n",
    "        for sym in all_symbols:\n",
    "            M[z] = sp.diff(eq[i],sym)\n",
    "            z += 1\n",
    "\n",
    "    # turn original equation and jacobian matrix into numpy functions\n",
    "    new_f = sp.lambdify([all_symbols], eq, modules='numpy')\n",
    "    new_j = sp.lambdify([all_symbols], M, modules='numpy')\n",
    "        \n",
    "    # encapsulate the numpy functions into dummy functions\n",
    "    def root_f(x):\n",
    "        return new_f(x)\n",
    "    def jac_f(x):\n",
    "        return new_j(x)\n",
    "    \n",
    "    # solve for roots!\n",
    "    sol = opt.root(root_f, start, jac=jac_f, method = method)\n",
    "    sol.x\n",
    "    print(root_f(sol.x))\n",
    "    \n",
    "    # solve for final weight and print out weights\n",
    "    weights = np.array_split(sol.x, 2)\n",
    "    '''\n",
    "    final_real = 1\n",
    "    final_imag = 0\n",
    "    for i in range(num_steps-1):\n",
    "        print('Step %d: %12.12f +  %12.12fi' % (i+1, weights[0][i], weights[1][i]))\n",
    "        final_real -= weights[0][i]\n",
    "        final_imag -= weights[1][i]\n",
    "    \n",
    "    # print final step\n",
    "    print('Step %d: %12.12f +  %12.12fi' % (num_steps, final_real, final_imag))\n",
    "\n",
    "    # combine all steps to return as output# 5-step 5-order\n",
    "    print(weights)\n",
    "    all_weights = np.zeros((2,num_steps+1))\n",
    "    all_weights[:,:-1] = weights\n",
    "    all_weights[0][-1] = final_real\n",
    "    all_weights[1][-1] = final_imag\n",
    "    '''\n",
    "        \n",
    "    return weights"
   ]
  },
  {
   "cell_type": "markdown",
   "metadata": {},
   "source": [
    "Order conditions at various orders (Derived in a mathematica notebook separately)"
   ]
  },
  {
   "cell_type": "code",
   "execution_count": 10,
   "metadata": {},
   "outputs": [],
   "source": [
    "eq1 = a1*w1 + b1*w1 + a2*w2 + b2*w2 + c2*w2\n",
    "eq2 = (2*a2*(a1*w1 + b1*w1)*w2 + 2*b1*w1**2*x1 + 2*b2*w2*(a1*w1 + b1*w1 + w2*x2) + 2*c2*w2*(a1*w1 + b1*w1 + w2*z1 + w2*z2))/2."
   ]
  },
  {
   "cell_type": "code",
   "execution_count": 11,
   "metadata": {},
   "outputs": [],
   "source": [
    "eq31 = (12*a2*b1*w1**2*w2*x1 + 6*b2*w2*(2*b1*w1**2*x1 + 2*(a1*w1 + b1*w1)*w2*x2) +   6*c2*w2*(2*b1*w1**2*x1 + 2*(a1*w1 + b1*w1)*w2*z1 + 2*w2*(a1*w1 + b1*w1 + w2*x2)*z2))/12.\n",
    "eq32 = (6*a2*(a1*w1 + b1*w1)**2*w2 + 6*b1*w1**3*x1**2 + 6*b2*w2*(a1*w1 + b1*w1 + w2*x2)**2 +   6*c2*w2*(a1*w1 + b1*w1 + w2*z1 + w2*z2)**2)/12.\n"
   ]
  },
  {
   "cell_type": "code",
   "execution_count": 12,
   "metadata": {},
   "outputs": [],
   "source": [
    "eq41 = ((a2*(6*a1**3*w1**3 + 18*a1**2*b1*w1**3 + 18*a1*b1**2*w1**3 + 6*b1**3*w1**3)*w2)/6. + b1*w1**4*x1**3 + \\\n",
    "        (b2*w2*(6*a1**3*w1**3 + 6*b1**3*w1**3 + 18*b1**2*w1**2*w2*x2 + 18*b1*w1*w2**2*x2**2 + 6*w2**3*x2**3 + \\\n",
    "     18*a1**2*w1**2*(b1*w1 + w2*x2) + 9*a1*w1*(2*b1**2*w1**2 + 4*b1*w1*w2*x2 + 2*w2**2*x2**2)))/6. + \n",
    "        (c2*w2*(6*a1**3*w1**3 + 18*a1**2*b1*w1**3 + 18*a1*b1**2*w1**3 + 6*b1**3*w1**3 + 6*w2**3*z1**3 + \n",
    "     18*w2**3*z1**2*z2 + 18*w2**3*z1*z2**2 + 6*w2**3*z2**3 +   9*(2*a1**2*w1**2 + 4*a1*b1*w1**2 + 2*b1**2*w1**2)*(w2*z1 + w2*z2) + \n",
    " 9*(a1*w1 + b1*w1)*(2*w2**2*z1**2 + 4*w2**2*z1*z2 + 2*w2**2*z2**2)))/6.)/6.\n",
    "eq42 = ((a2*w2*(b1*w1**3*x1**2 + (4*a1*b1*w1**3*x1 + 4*b1**2*w1**3*x1)/2.) +  b2*w2*(b1*w1**3*x1**2 + \n",
    "    ((2*a1**2*w1**2 + 4*a1*b1*w1**2 + 2*b1**2*w1**2)*w2*x2)/2. +   (4*b1**2*w1**3*x1 + 2*b1*w1*w2*(2*(a1*w1 + b1*w1) + 2*w1*x1)*x2 + 4*(a1*w1 + b1*w1)*w2**2*x2**2 + \n",
    "    4*a1*w1*(b1*w1**2*x1 + (a1*w1 + b1*w1)*w2*x2))/2.) +  c2*w2*(b1*w1**3*x1**2 + ((2*a1**2*w1**2 + 4*a1*b1*w1**2 + 2*b1**2*w1**2)*w2*z1)/2. + \n",
    " (w2*(2*a1**2*w1**2 + 2*b1**2*w1**2 + 4*b1*w1*w2*x2 + 2*w2**2*x2**2 + 4*a1*w1*(b1*w1 + w2*x2))*z2)/2. + \n",
    " (4*a1*b1*w1**3*x1 + 4*b1**2*w1**3*x1 + 4*(a1*w1 + b1*w1)*w2**2*z1**2 + \n",
    " 2*w2**2*(2*(a1*w1 + b1*w1) + 2*(a1*w1 + b1*w1 + w2*x2))*z1*z2 + 4*w2**2*(a1*w1 + b1*w1 + w2*x2)*z2**2 + \n",
    "  2*(2*b1*w1**2*x1*(w2*z1 + w2*z2) +  2*(a1*w1 + b1*w1)*((a1*w1 + b1*w1)*w2*z1 + w2*(a1*w1 + b1*w1 + w2*x2)*z2)))/2.))/2.)\n",
    "eq43 = (6*b1*b2*w1**2*w2**2*x1*x2 + 3*c2*w2*(2*b1*w1**2*w2*x1*z1 + 2*w2*(b1*w1**2*x1 + (a1*w1 + b1*w1)*w2*x2)*z2))/6."
   ]
  },
  {
   "cell_type": "code",
   "execution_count": 13,
   "metadata": {},
   "outputs": [],
   "source": [
    "eq51 =(((a2*(24*a1**4*w1**4 + 96*a1**3*b1*w1**4 + 144*a1**2*b1**2*w1**4 + 96*a1*b1**3*w1**4 + 24*b1**4*w1**4)*w2)/24. + \n",
    "         b1*w1**5*x1**4 + (b2*w2*(24*a1**4*w1**4 + 24*b1**4*w1**4 + 96*b1**3*w1**3*w2*x2 + \n",
    "              144*b1**2*w1**2*w2**2*x2**2 + 96*b1*w1*w2**3*x2**3 + 24*w2**4*x2**4 + 96*a1**3*w1**3*(b1*w1 + w2*x2) + \n",
    "              72*a1**2*w1**2*(2*b1**2*w1**2 + 4*b1*w1*w2*x2 + 2*w2**2*x2**2) + \n",
    "              16*a1*w1*(6*b1**3*w1**3 + 18*b1**2*w1**2*w2*x2 + 18*b1*w1*w2**2*x2**2 + 6*w2**3*x2**3)))/24. + \n",
    "         (c2*w2*(24*a1**4*w1**4 + 96*a1**3*b1*w1**4 + 144*a1**2*b1**2*w1**4 + 96*a1*b1**3*w1**4 + 24*b1**4*w1**4 + \n",
    "              24*w2**4*z1**4 + 96*w2**4*z1**3*z2 + 144*w2**4*z1**2*z2**2 + 96*w2**4*z1*z2**3 + 24*w2**4*z2**4 + \n",
    "              16*(6*a1**3*w1**3 + 18*a1**2*b1*w1**3 + 18*a1*b1**2*w1**3 + 6*b1**3*w1**3)*(w2*z1 + w2*z2) + \n",
    "              36*(2*a1**2*w1**2 + 4*a1*b1*w1**2 + 2*b1**2*w1**2)*(2*w2**2*z1**2 + 4*w2**2*z1*z2 + 2*w2**2*z2**2) + \n",
    "             16*(a1*w1 + b1*w1)*(6*w2**3*z1**3 + 18*w2**3*z1**2*z2 + 18*w2**3*z1*z2**2 + 6*w2**3*z2**3)))/24.)/24.)\n",
    "eq52 = ((a2*w2*(b1*w1**4*x1**3 + (18*a1**2*b1*w1**4*x1 + 36*a1*b1**2*w1**4*x1 + 18*b1**3*w1**4*x1)/6.) + \n",
    "      b2*w2*(b1*w1**4*x1**3 + ((6*a1**3*w1**3 + 18*a1**2*b1*w1**3 + 18*a1*b1**2*w1**3 + 6*b1**3*w1**3)*w2*x2)/6. + \n",
    "     (18*b1**3*w1**4*x1 + 3*b1**2*w1**2*w2*(6*(a1*w1 + b1*w1) + 12*w1*x1)*x2 + \n",
    "     3*b1*w1*w2**2*(12*(a1*w1 + b1*w1) + 6*w1*x1)*x2**2 + 18*(a1*w1 + b1*w1)*w2**3*x2**3 + \n",
    "    18*a1**2*w1**2*(b1*w1**2*x1 + (a1*w1 + b1*w1)*w2*x2) + \n",
    "  9*a1*w1*(4*b1**2*w1**3*x1 + 2*b1*w1*w2*(2*(a1*w1 + b1*w1) + 2*w1*x1)*x2 + 4*(a1*w1 + b1*w1)*w2**2*x2**2))\n",
    "     /6.) + c2*w2*(b1*w1**4*x1**3 + ((6*a1**3*w1**3 + 18*a1**2*b1*w1**3 + 18*a1*b1**2*w1**3 + 6*b1**3*w1**3)*\n",
    "      w2*z1)/6. + (w2*(6*a1**3*w1**3 + 6*b1**3*w1**3 + 18*b1**2*w1**2*w2*x2 + 18*b1*w1*w2**2*x2**2 + \n",
    "      6*w2**3*x2**3 + 18*a1**2*w1**2*(b1*w1 + w2*x2) +  9*a1*w1*(2*b1**2*w1**2 + 4*b1*w1*w2*x2 + 2*w2**2*x2**2))*z2)/6. + \n",
    "     (18*a1**2*b1*w1**4*x1 + 36*a1*b1**2*w1**4*x1 + 18*b1**3*w1**4*x1 + 18*(a1*w1 + b1*w1)*w2**3*z1**3 + \n",
    "      3*w2**3*(12*(a1*w1 + b1*w1) + 6*(a1*w1 + b1*w1 + w2*x2))*z1**2*z2 + 3*w2**3*(6*(a1*w1 + b1*w1) + 12*(a1*w1 + b1*w1 + w2*x2))*z1*z2**2 + \n",
    "       18*w2**3*(a1*w1 + b1*w1 + w2*x2)*z2**3 +  3*(3*(4*a1*b1*w1**3*x1 + 4*b1**2*w1**3*x1)*(w2*z1 + w2*z2) + \n",
    "     3*(2*a1**2*w1**2 + 4*a1*b1*w1**2 + 2*b1**2*w1**2)* ((a1*w1 + b1*w1)*w2*z1 + w2*(a1*w1 + b1*w1 + w2*x2)*z2)) + \n",
    "   3*(3*b1*w1**2*x1*(2*w2**2*z1**2 + 4*w2**2*z1*z2 + 2*w2**2*z2**2) +  3*(a1*w1 + b1*w1)*(4*(a1*w1 + b1*w1)*w2**2*z1**2 +\n",
    "        2*w2**2*(2*(a1*w1 + b1*w1) + 2*(a1*w1 + b1*w1 + w2*x2))*z1*z2 + 4*w2**2*(a1*w1 + b1*w1 + w2*x2)*z2**2)))/6.))/6.)\n",
    "eq53 = ((a2*w2*(6*a1*b1*w1**4*x1**2 + 6*b1**2*w1**4*x1**2) + b2*w2*(6*b1**2*w1**4*x1**2 + 2*b1*w1*w2*\n",
    "      ((3*(2*a1**2*w1**2 + 4*a1*b1*w1**2 + 2*b1**2*w1**2))/2. + 3*w1**2*x1**2)*x2 + 3*(2*a1**2*w1**2 + 4*a1*b1*w1**2 + 2*b1**2*w1**2)*w2**2*x2**2 + \n",
    "      6*a1*w1*(b1*w1**3*x1**2 + ((2*a1**2*w1**2 + 4*a1*b1*w1**2 + 2*b1**2*w1**2)*w2*x2)/2.)) + \n",
    "       c2*w2*(6*a1*b1*w1**4*x1**2 + 6*b1**2*w1**4*x1**2 + 3*(2*a1**2*w1**2 + 4*a1*b1*w1**2 + 2*b1**2*w1**2)*w2**2*z1**2 + \n",
    "     2*w2**2*((3*(2*a1**2*w1**2 + 4*a1*b1*w1**2 + 2*b1**2*w1**2))/2. + \n",
    "     (3*(2*a1**2*w1**2 + 2*b1**2*w1**2 + 4*b1*w1*w2*x2 + 2*w2**2*x2**2 + 4*a1*w1*(b1*w1 + w2*x2)))/2.)*z1*z2\\\n",
    "     + 3*w2**2*(2*a1**2*w1**2 + 2*b1**2*w1**2 + 4*b1*w1*w2*x2 + 2*w2**2*x2**2 + 4*a1*w1*(b1*w1 + w2*x2))*\n",
    "      z2**2 + 2*(3*b1*w1**3*x1**2*(w2*z1 + w2*z2) + 3*(a1*w1 + b1*w1)*(((2*a1**2*w1**2 + 4*a1*b1*w1**2 + 2*b1**2*w1**2)*w2*z1)/2. + \n",
    "      (w2*(2*a1**2*w1**2 + 2*b1**2*w1**2 + 4*b1*w1*w2*x2 + 2*w2**2*x2**2 + 4*a1*w1*(b1*w1 + w2*x2))*z2)/2.)) ))/12.)\n",
    "eq54 = ((2*a2*b1**2*w1**4*w2*x1**2 + b2*w2*(2*w2*(b1*w1**3*x1**2 + (4*a1*b1*w1**3*x1 + 4*b1**2*w1**3*x1)/2.)*x2 + \n",
    " (4*b1**2*w1**4*x1**2 + 8*a1*b1*w1**3*w2*x1*x2 + 2*b1*w1*w2*(4*b1*w1**2*x1 + 4*w1*(a1*w1 + b1*w1)*x1)*x2 + \n",
    "  w2**2*(2*(2*a1**2*w1**2 + 4*a1*b1*w1**2 + 2*b1**2*w1**2) + 8*b1*w1**2*x1)*x2**2)/2.) + \n",
    " c2*w2*(2*(w2*(b1*w1**3*x1**2 + (4*a1*b1*w1**3*x1 + 4*b1**2*w1**3*x1)/2.)*z1 + \n",
    " w2*(b1*w1**3*x1**2 + ((2*a1**2*w1**2 + 4*a1*b1*w1**2 + 2*b1**2*w1**2)*w2*x2)/2. + \n",
    " (4*b1**2*w1**3*x1 + 2*b1*w1*w2*(2*(a1*w1 + b1*w1) + 2*w1*x1)*x2 + 4*(a1*w1 + b1*w1)*w2**2*x2**2 + \n",
    "4*a1*w1*(b1*w1**2*x1 + (a1*w1 + b1*w1)*w2*x2))/2.)*z2) + \n",
    " (4*b1**2*w1**4*x1**2 + w2**2*(2*(2*a1**2*w1**2 + 4*a1*b1*w1**2 + 2*b1**2*w1**2) + 8*b1*w1**2*x1)*z1**2 + \n",
    " 2*w2**2*(4*b1*w1**2*x1 + 4*(a1*w1 + b1*w1)*(a1*w1 + b1*w1 + w2*x2) + 4*(b1*w1**2*x1 + (a1*w1 + b1*w1)*w2*x2))*z1*z2 + \n",
    "     w2**2*(8*(b1*w1**2*x1 + (a1*w1 + b1*w1)*w2*x2) + \n",
    "   2*(2*a1**2*w1**2 + 2*b1**2*w1**2 + 4*b1*w1*w2*x2 + 2*w2**2*x2**2 + 4*a1*w1*(b1*w1 + w2*x2)))*z2**2 + \n",
    "   2*(4*b1*w1**2*x1*((a1*w1 + b1*w1)*w2*z1 + w2*(a1*w1 + b1*w1 + w2*x2)*z2) + \n",
    "      2*(a1*w1 + b1*w1)*(2*b1*w1**2*w2*x1*z1 + 2*w2*(b1*w1**2*x1 + (a1*w1 + b1*w1)*w2*x2)*z2)))/2.))/4.)\n",
    "eq55 = b1*c2*w1**2*w2**3*x1*x2*z2"
   ]
  },
  {
   "cell_type": "markdown",
   "metadata": {},
   "source": [
    "Now, we can try to find the parameters that solve these equations. Changing start changes the initial condition of the optimization process."
   ]
  },
  {
   "cell_type": "code",
   "execution_count": 14,
   "metadata": {},
   "outputs": [
    {
     "name": "stdout",
     "output_type": "stream",
     "text": [
      "22\n",
      "[-2.886579864025407e-15, -3.3306690738754696e-16, -2.6645352591003757e-15, 2.220446049250313e-16, -2.7755575615628914e-16, 1.7486012637846216e-15, 1.1839140778846513e-13, -2.4480417692984702e-14, -4.163336342344337e-17, 1.0795548482933626e-12, 1.237274172005698e-13, 2.976785484776201e-15, 7.230327447871332e-15, 6.938893903907228e-18, 0, 0, 0, 0, 0, 0, 0, 0]\n"
     ]
    }
   ],
   "source": [
    "num_steps = 5\n",
    "list_math = [ ]\n",
    "order = 5\n",
    "start = np.array([ 0.19254112,  0.31159223,  0.19917115, -0.14748027,  0.44410135,0,-0.36438814,  0.18248485, -0.23545467,  0.65551491,  0.4236295,  0 ])\n",
    "start = np.array([0.28492564, 0.14650833, 0.07066997, 0.47322386, 0.02467217, -0.13816636,  0.38885579, -0.28296455, -0.02434782,  0.74553616])\n",
    "start = [ 5.49178222e-01,  1.28569194e+00, -4.77500517e-01,  1.36543699e+00,\n",
    "        0, 0,  8.17361099e-02,  2.50326653e-01,\n",
    "        -6.75868234e-04,  8.83070159e-01, -8.41290458e-01, 6.62552778e-02,  4.29213564e+00, -5.79333251e-01,  7.85960306e-01,\n",
    "         6.33947868e+00, -6.81879351e+00,  3.55809139e-01,  1.74455588e-01,\n",
    "        -6.68500581e-04, -1.62664801e+00,  1.60948401e+00]\n",
    "targets_real = [1, 1/2, 1/6,1/6,1/24,1/6 ,1/24, 1/120, 7/120, 1/30, 11/120, 1/120]\n",
    "take_complex = [ 0, 0, 0, 0, 0, 0, 0,0,0,0,0,0]\n",
    "\n",
    "symbols = [w1, w2, a1, b1, a2, b2, c2, x1, x2, z1, z2]\n",
    "expr_list = [eq1, eq2, eq31, eq32, eq41, eq42, eq43, eq51, eq52, eq53, eq54, eq55] \n",
    "\n",
    "#opti = optimize_path(num_steps,order,start)\n",
    "opti = optimize_path(num_steps,order,start, symbols, expr_list, targets_real,targets_imag, take_complex, 'lm')\n",
    "#lib_add('Euler 2-step 2-order',opti)"
   ]
  },
  {
   "cell_type": "code",
   "execution_count": 15,
   "metadata": {},
   "outputs": [
    {
     "data": {
      "text/plain": [
       "[array([ 2.06599475e-01, -1.54492335e+00, -2.82496127e-01,  6.93078863e-01,\n",
       "         4.13784970e-02, -1.44406938e-01,  8.32197831e-02,  6.04706648e-01,\n",
       "        -9.27295228e-04,  9.96416253e-01, -9.42250087e-01]),\n",
       " array([ 4.28100857e-01,  7.18895570e+00, -1.19832732e+00,  4.49954556e-01,\n",
       "         6.63477799e+00, -6.72748439e+00,  1.42260211e-02, -8.04650472e-01,\n",
       "        -1.32411979e-03, -1.49186906e+00,  1.47131727e+00])]"
      ]
     },
     "execution_count": 15,
     "metadata": {},
     "output_type": "execute_result"
    }
   ],
   "source": [
    "opti\n",
    "#[0.28492564, 0.14650833, 0.07066997, 0.47322386, 0.02467217,-0.13816636,  0.38885579, -0.28296455, -0.02434782,  0.74553616]"
   ]
  },
  {
   "cell_type": "markdown",
   "metadata": {},
   "source": [
    "These are the parameters we find"
   ]
  },
  {
   "cell_type": "code",
   "execution_count": 17,
   "metadata": {},
   "outputs": [
    {
     "data": {
      "text/plain": [
       "[(w1, 0.206599475221461 + 0.428100856781222*I),\n",
       " (w2, -1.54492335208623 + 7.18895570467947*I),\n",
       " (a1, -0.282496127265484 - 1.19832732325366*I),\n",
       " (b1, 0.693078863188054 + 0.449954555731326*I),\n",
       " (a2, 0.0413784970387994 + 6.63477799249045*I),\n",
       " (b2, -0.144406938041957 - 6.72748438879053*I),\n",
       " (c2, 0.0832197830868657 + 0.0142260210906774*I),\n",
       " (x1, 0.604706648448803 - 0.804650471556979*I),\n",
       " (x2, -0.000927295227575114 - 0.00132411979110159*I),\n",
       " (z1, 0.996416253292974 - 1.49186905836381*I),\n",
       " (z2, -0.942250086591574 + 1.47131726842163*I)]"
      ]
     },
     "execution_count": 17,
     "metadata": {},
     "output_type": "execute_result"
    }
   ],
   "source": [
    "subs_list = []\n",
    "for i in range(11):\n",
    "    subs_list += [(symbols[i], opti[0][i]+sp.I*opti[1][i])]\n",
    "subs_list"
   ]
  },
  {
   "cell_type": "markdown",
   "metadata": {},
   "source": [
    "We can plug these parameters into any of the order conditions to see if it is satisfied. For eq54, the real part of order condition must be $11/120 =0.091666$"
   ]
  },
  {
   "cell_type": "code",
   "execution_count": 20,
   "metadata": {},
   "outputs": [
    {
     "data": {
      "text/latex": [
       "$\\displaystyle 0.0916666666666656 + 0.122537762660728 i$"
      ],
      "text/plain": [
       "0.0916666666666656 + 0.122537762660728*I"
      ]
     },
     "execution_count": 20,
     "metadata": {},
     "output_type": "execute_result"
    }
   ],
   "source": [
    "sp_eq =eq54\n",
    "e54=  sp_eq.subs(subs_list)\n",
    "e54.expand()"
   ]
  },
  {
   "cell_type": "markdown",
   "metadata": {},
   "source": [
    "Try the parameters on a function and symbollically see if it has 5th order accuracy (in the real part)"
   ]
  },
  {
   "cell_type": "code",
   "execution_count": 205,
   "metadata": {},
   "outputs": [
    {
     "data": {
      "text/latex": [
       "$\\displaystyle 1 - 1.77635683940025 \\cdot 10^{-15} i dt + 1.0 dt - 1.77635683940025 \\cdot 10^{-15} i dt^{2} + 1.00000000000001 dt^{2} - 0.279083463558177 i dt^{3} + 0.999999999999957 dt^{3} + 0.411112356770277 i dt^{4} + 1.00000000000011 dt^{4} + 1.27992773284175 i dt^{5} + 0.999999999999855 dt^{5} + O\\left(dt^{6}\\right)$"
      ],
      "text/plain": [
       "1 - 1.77635683940025e-15*I*dt + 1.0*dt - 1.77635683940025e-15*I*dt**2 + 1.00000000000001*dt**2 - 0.279083463558177*I*dt**3 + 0.999999999999957*dt**3 + 0.411112356770277*I*dt**4 + 1.00000000000011*dt**4 + 1.27992773284175*I*dt**5 + 0.999999999999855*dt**5 + O(dt**6)"
      ]
     },
     "execution_count": 205,
     "metadata": {},
     "output_type": "execute_result"
    }
   ],
   "source": [
    "def f(x):\n",
    "    return x**2\n",
    "y0 = 1\n",
    "k11 = f(y0)\n",
    "k12 = f(y0+ x1*w1*dt*k11)\n",
    "y1 = y0 +a1*w1*dt*k11+b1*w1*dt*k12\n",
    "k21 = f(y1)\n",
    "k22 = f(y1 + x2*w2*dt*k21)\n",
    "k23 = f(y1 + z1*w2*dt*k21 + z2*w2*dt*k22)\n",
    "y2 = y1 +a2*w2*dt*k21+b2*w2*dt*k22+c2*w2*dt*k23\n",
    "y2 = y2 + sp.O(dt**6)\n",
    "(y2.subs(subs_list)).expand()"
   ]
  },
  {
   "cell_type": "code",
   "execution_count": 206,
   "metadata": {},
   "outputs": [],
   "source": [
    "exp_list = [x1*w1, a1*w1, b1*w1, x2*w2, z1*w2, z2*w2, a2*w2, b2*w2, c2*w2]\n",
    "exp_list_v =  [complex((v.subs(subs_list)).expand()) for v in exp_list]#[a_121, b_11, b_12, a_221, a_231, a_232, b_21, b_22, b_23]"
   ]
  },
  {
   "cell_type": "code",
   "execution_count": 232,
   "metadata": {},
   "outputs": [
    {
     "data": {
      "text/plain": [
       "[(0.4694036325154083+0.09263506914186012j),\n",
       " (0.45464140214409554-0.3685106302474753j),\n",
       " (-0.04943620139945573+0.3896680302353586j),\n",
       " (0.01095163857727765-0.004620620729965784j),\n",
       " (9.185593839648694+9.468015654867008j),\n",
       " (-9.121530507932487-9.046866541549512j),\n",
       " (-47.76105170474552-9.95275527416814j),\n",
       " (48.58668492572205+9.355312652006003j),\n",
       " (-0.2308384217211647+0.5762852221742528j)]"
      ]
     },
     "execution_count": 232,
     "metadata": {},
     "output_type": "execute_result"
    }
   ],
   "source": [
    "a_121, b_11, b_12, a_221, a_231, a_232, b_21, b_22, b_23 = exp_list_v \n",
    "exp_list_v"
   ]
  },
  {
   "cell_type": "code",
   "execution_count": 179,
   "metadata": {},
   "outputs": [
    {
     "data": {
      "text/latex": [
       "$\\displaystyle 1 - 8.88178419700125 \\cdot 10^{-16} i dt + 1.00000000000001 dt + 7.105427357601 \\cdot 10^{-15} i dt^{2} + 1.0 dt^{2} - 0.169764409723034 i dt^{3} + 0.999999999999959 dt^{3} - 0.0842128812546147 i dt^{4} + 0.999999999999809 dt^{4} + 0.0962579517640259 i dt^{5} + 1.00000000000012 dt^{5} + O\\left(dt^{6}\\right)$"
      ],
      "text/plain": [
       "1 - 8.88178419700125e-16*I*dt + 1.00000000000001*dt + 7.105427357601e-15*I*dt**2 + 1.0*dt**2 - 0.169764409723034*I*dt**3 + 0.999999999999959*dt**3 - 0.0842128812546147*I*dt**4 + 0.999999999999809*dt**4 + 0.0962579517640259*I*dt**5 + 1.00000000000012*dt**5 + O(dt**6)"
      ]
     },
     "execution_count": 179,
     "metadata": {},
     "output_type": "execute_result"
    }
   ],
   "source": [
    "def f(x):\n",
    "    return x**2\n",
    "y0 = 1\n",
    "k11 = f(y0)\n",
    "k12 = f(y0+ a_121*dt*k11)\n",
    "y1 = y0 +b_11*dt*k11+b_12*dt*k12\n",
    "k21 = f(y1)\n",
    "k22 = f(y1 + a_221*dt*k21)\n",
    "k23 = f(y1 + a_231*dt*k21 + a_232*dt*k22)\n",
    "y2 = y1 +b_21*dt*k21+b_22*dt*k22+b_23*dt*k23\n",
    "y2 = y2 + sp.O(dt**6)\n",
    "y2.expand() #(y2.subs(subs_list)).expand()"
   ]
  },
  {
   "cell_type": "markdown",
   "metadata": {},
   "source": [
    "A previously derived (stable) set of rk coefficients"
   ]
  },
  {
   "cell_type": "code",
   "execution_count": 2,
   "metadata": {},
   "outputs": [],
   "source": [
    "a_121, b_11, b_12, a_221, a_231, a_232, b_21, b_22, b_23 = [(0.4694036325154083+0.09263506914186012j),\n",
    " (0.45464140214409554-0.3685106302474753j),\n",
    " (-0.04943620139945573+0.3896680302353586j),\n",
    " (0.01095163857727765-0.004620620729965784j),\n",
    " (9.185593839648694+9.468015654867008j),\n",
    " (-9.121530507932487-9.046866541549512j),\n",
    " (-47.76105170474552-9.95275527416814j),\n",
    " (48.58668492572205+9.355312652006003j),\n",
    " (-0.2308384217211647+0.5762852221742528j)]"
   ]
  },
  {
   "cell_type": "markdown",
   "metadata": {},
   "source": [
    "The RK2/3 function"
   ]
  },
  {
   "cell_type": "code",
   "execution_count": 3,
   "metadata": {},
   "outputs": [],
   "source": [
    "def rk5step(y0, f, dt):\n",
    "    k11 = f(y0)\n",
    "    k12 = f(y0+ a_121*dt*k11)\n",
    "    y1 = y0 +b_11*dt*k11+b_12*dt*k12\n",
    "    k21 = f(y1)\n",
    "    k22 = f(y1 + a_221*dt*k21)\n",
    "    k23 = f(y1 + a_231*dt*k21 + a_232*dt*k22)\n",
    "    y2 = y1 +b_21*dt*k21+b_22*dt*k22+b_23*dt*k23\n",
    "    return np.real(y2)"
   ]
  },
  {
   "cell_type": "markdown",
   "metadata": {},
   "source": [
    "See if it has 5th order numerical accuracy"
   ]
  },
  {
   "cell_type": "code",
   "execution_count": 4,
   "metadata": {},
   "outputs": [
    {
     "data": {
      "text/plain": [
       "[0.02102129098480532,\n",
       " 9.460583214604412e-06,\n",
       " 3.0856827493153105e-07,\n",
       " 1.0271605788148008e-10,\n",
       " 3.950617610826157e-12]"
      ]
     },
     "execution_count": 4,
     "metadata": {},
     "output_type": "execute_result"
    }
   ],
   "source": [
    "def f1(y):\n",
    "    f1.counter  += 1\n",
    "    return y\n",
    "f1.counter = 0\n",
    "error_lin = []\n",
    "dt_lin = []\n",
    "for N in [11, 51,  101,501, 1001]:\n",
    "    end = 5\n",
    "    y = np.zeros(N)\n",
    "    y[0] = 1\n",
    "    t = np.linspace(0, end, N)\n",
    "    dt = end/(N-1)\n",
    "    for i in range(1,N):\n",
    "        y[i] = rk5step(y[i-1], f1, dt)  \n",
    "    error = np.linalg.norm(y - np.exp(t), np.Inf)\n",
    "    error_lin += [error]\n",
    "    dt_lin += [dt]\n",
    "error_lin"
   ]
  }
 ],
 "metadata": {
  "kernelspec": {
   "display_name": "Python 3",
   "language": "python",
   "name": "python3"
  },
  "language_info": {
   "codemirror_mode": {
    "name": "ipython",
    "version": 3
   },
   "file_extension": ".py",
   "mimetype": "text/x-python",
   "name": "python",
   "nbconvert_exporter": "python",
   "pygments_lexer": "ipython3",
   "version": "3.8.5"
  }
 },
 "nbformat": 4,
 "nbformat_minor": 4
}
