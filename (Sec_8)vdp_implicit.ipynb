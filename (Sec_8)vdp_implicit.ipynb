{
 "cells": [
  {
   "cell_type": "markdown",
   "metadata": {},
   "source": [
    "#### This notebook generates convergence plots for the backward Euler and the implicit midpoint method on the Van Der Pol equation.\n",
    "\n",
    "Requires Nodepy"
   ]
  },
  {
   "cell_type": "code",
   "execution_count": 2,
   "metadata": {},
   "outputs": [],
   "source": [
    "import numpy as np\n",
    "import matplotlib.pyplot as plt"
   ]
  },
  {
   "cell_type": "code",
   "execution_count": 3,
   "metadata": {},
   "outputs": [],
   "source": [
    "weights_lib = { \n",
    "                'Euler 1-step 1-order' : [1],\n",
    "                'Euler 2-step 2-order' : [0.5 +0.5*1j, 0.5-0.5*1j],\n",
    "                'Euler 2-step 3-order' : [1+1j*np.sqrt(2)/2,-1j*np.sqrt(2)/2],\n",
    "                'Euler 2-step 3-order exp' : [0.838852+1j*0.604004, 0.161148-1j*0.604004],\n",
    "                'Euler 2-step symplectic' : [0.5 +0.5*np.sqrt(3)*1j, 0.5-0.5*np.sqrt(3)*1j],\n",
    "                'Euler 3-step 1-order' : [8.29344624e-01 , 5.95442650e-02, 1-8.29344624e-01-5.95442650e-02],\n",
    "                'Euler 3-step 3-order' : [0.1867308533646 + 0.480773884550331*1j, 0.626538293270800, 0.1867308533646 - 0.480773884550331*1j],\n",
    "                'Euler 3-step 2-order' : [0.411741936185254 + 0.430244574248458*1j, 0.176516127629493, 0.411741936185254-0.430244574248458*1j],\n",
    "                'Euler 4-step 4-order' : [   0.04262665650273905+0.394632953172082*1j,\n",
    "                                           0.4573733434973006-0.23510048799854047j, 0.4573733434973006+0.23510048799854047j, 0.04262665650273905-0.394632953172082*1j],\n",
    "                'Euler 4-step 5-order' :[0.468161714486717 - 0.26941588085837*1j, 0.160647423722113 + 0.351192187389791*1j,0.335788810038662 + 0.241712151385474*1j, \n",
    "                                         0.0354020517525083 - 0.323488457916895*1j],\n",
    "                'Midpo 2-step 4-order' :[0.5 + 0.28867513459*1j, 0.5-0.28867513459*1j]}\n",
    "\n",
    "def pathwise(x, path):\n",
    "    stepsize = x[1:]-x[:-1]\n",
    "    contour = [x[0]]\n",
    "    for i in range(len(x)-1):\n",
    "        weights = np.cumsum(weights_lib[path])\n",
    "        substeps = [x[i]+stepsize[i]*weight for weight in weights]\n",
    "        contour +=substeps\n",
    "    return np.array(contour)"
   ]
  },
  {
   "cell_type": "code",
   "execution_count": 3,
   "metadata": {},
   "outputs": [],
   "source": [
    "def F(u, step, u_old):\n",
    "    return np.array([ u[0] - u_old[0] - step*u[1],\n",
    "                      u[1] - u_old[1] - (step/eps)*((1-u[0]**2)*u[1])+step*u[0]])\n",
    "\n",
    "def Jac(u, step):\n",
    "    return np.array([[1 , -step], [step+(step/eps)*2*u[0]*u[1], 1-(step/eps)*(1-u[0]**2)]])\n",
    "\n",
    "def newton_solve(u_prev,step):\n",
    "    u_old = u_prev\n",
    "    for i in range(100):\n",
    "        u_new = u_old - np.linalg.solve(Jac(u_old, step),F(u_old, step, u_prev))\n",
    "        u_old = u_new\n",
    "    return u_new"
   ]
  },
  {
   "cell_type": "code",
   "execution_count": 10,
   "metadata": {},
   "outputs": [],
   "source": [
    "class IVP(object):\n",
    "    def __init__(self, f=None, u0=1., t0=0., T=1., exact=None, desc='', name=''):\n",
    "        self.u0  = u0\n",
    "        self.rhs = f\n",
    "        self.T   = T\n",
    "        self.exact = exact\n",
    "        self.description = desc\n",
    "        self.t0 = t0\n",
    "        self.name = name"
   ]
  },
  {
   "cell_type": "code",
   "execution_count": 11,
   "metadata": {},
   "outputs": [],
   "source": [
    "u0 = np.array([2.,0])\n",
    "rhs = lambda t,u: np.array([u[1], (1/eps)*((1-u[0]**2)*u[1])-u[0]])\n",
    "vdp_jdg = IVP(f=rhs, u0=u0, T = 20)"
   ]
  },
  {
   "cell_type": "code",
   "execution_count": 18,
   "metadata": {
    "scrolled": false
   },
   "outputs": [],
   "source": [
    "import nodepy.runge_kutta_method as rk\n",
    "rk4 = rk.loadRKM('RK44')\n",
    "t, u = rk4(vdp_jdg, dt = 0.000001)"
   ]
  },
  {
   "cell_type": "code",
   "execution_count": 15,
   "metadata": {},
   "outputs": [],
   "source": [
    "def convergence_test(timesteps, schemes, ode, exact_soln =[]):\n",
    "    error_matrix = []\n",
    "    for timestep in timesteps:\n",
    "        end = ode.T\n",
    "        x = np.linspace(0, end, int(end/timestep)+1)\n",
    "        if exact_soln ==[]:\n",
    "            exact = ode.exact(x)\n",
    "        else:\n",
    "            #print(int(np.rint(timestep/exact_soln[1])), timestep/exact_soln[1])\n",
    "            exact = np.array(exact_soln[0][::int(np.rint(timestep/exact_soln[1]))])\n",
    "        \n",
    "        scheme_error = []\n",
    "        for scheme in schemes:\n",
    "            #print(scheme)\n",
    "            path1 = pathwise(x, scheme)\n",
    "            steps = path1[1:]-path1[:-1]\n",
    "            if isinstance(ode.u0, (list, np.ndarray)):\n",
    "                y1 = np.zeros((len(path1), len(ode.u0)), dtype = np.cdouble)\n",
    "            else:\n",
    "                y1 = np.zeros((len(path1)), dtype = np.cdouble)\n",
    "            y1[0] = ode.u0\n",
    "            i = 1\n",
    "            for step in steps:\n",
    "                y1[i] = newton_solve(y1[i-1], step)\n",
    "                if i%int(scheme[6])==0:\n",
    "                    y1[i] = np.real(y1[i])\n",
    "                i += 1\n",
    "            scheme_error += [np.linalg.norm(y1[::int(scheme[6])]-exact, np.inf)]\n",
    "\n",
    "        error_matrix.append(np.array(scheme_error))\n",
    "    return np.array(error_matrix)\n",
    "            "
   ]
  },
  {
   "cell_type": "code",
   "execution_count": 16,
   "metadata": {},
   "outputs": [
    {
     "name": "stdout",
     "output_type": "stream",
     "text": [
      "Euler 1-step 1-order\n",
      "Euler 2-step 2-order\n",
      "Euler 3-step 3-order\n",
      "Euler 1-step 1-order\n",
      "Euler 2-step 2-order\n",
      "Euler 3-step 3-order\n"
     ]
    },
    {
     "data": {
      "text/plain": [
       "array([[1.53873898e+01, 3.98123414e+00, 1.59138180e-01],\n",
       "       [1.25004989e+01, 3.62967392e-02, 1.78487870e-04]])"
      ]
     },
     "execution_count": 16,
     "metadata": {},
     "output_type": "execute_result"
    }
   ],
   "source": [
    "timesteps = np.array([0.01, 0.001, 0.0001])\n",
    "schemes = ['Euler 1-step 1-order', 'Euler 3-step 3-order']#'Euler 2-step 3-order exp','Euler 4-step 5-order', 'Euler 3-step 2-order', 'Euler 3-step 1-order']\n",
    "\n",
    "#schemes = ['Euler 2-step 3-order']\n",
    "er = convergence_test(timesteps, schemes, vdp_jdg, exact_soln =[u, 0.00001])\n",
    "er"
   ]
  },
  {
   "cell_type": "markdown",
   "metadata": {},
   "source": [
    "# Midpoint Method"
   ]
  },
  {
   "cell_type": "code",
   "execution_count": 25,
   "metadata": {},
   "outputs": [],
   "source": [
    "def convergence_test_midpoint(timesteps, schemes, ode, exact_soln =[]):\n",
    "    error_matrix = []\n",
    "    for timestep in timesteps:\n",
    "        end = ode.T\n",
    "        x = np.linspace(0, end, int(end/timestep)+1)\n",
    "        if exact_soln ==[]:\n",
    "            exact = ode.exact(x)\n",
    "        else:\n",
    "            #print(int(np.rint(timestep/exact_soln[1])), timestep/exact_soln[1])\n",
    "            exact = np.array(exact_soln[0][::int(np.rint(timestep/exact_soln[1]))])\n",
    "        \n",
    "        scheme_error = []           \n",
    "        for scheme in schemes:\n",
    "            print(scheme)\n",
    "            path1 = pathwise(x, scheme)\n",
    "            steps = path1[1:]-path1[:-1]\n",
    "            if isinstance(ode.u0, (list, np.ndarray)):\n",
    "                y1 = np.zeros((len(path1), len(ode.u0)), dtype = np.cdouble)\n",
    "            else:\n",
    "                y1 = np.zeros((len(path1)), dtype = np.cdouble)\n",
    "            y1[0] = ode.u0\n",
    "            i = 1\n",
    "            for step in steps:\n",
    "                y1[i] = newton_solve1(y1[i-1], step)\n",
    "                if i%int(scheme[6])==0:\n",
    "                    y1[i] = np.real(y1[i])\n",
    "                i += 1\n",
    "            scheme_error += [np.linalg.norm(y1[::int(scheme[6])]-exact, np.inf)]\n",
    "\n",
    "        error_matrix.append(np.array(scheme_error))\n",
    "    return np.array(error_matrix)"
   ]
  },
  {
   "cell_type": "code",
   "execution_count": 29,
   "metadata": {
    "scrolled": true
   },
   "outputs": [
    {
     "name": "stdout",
     "output_type": "stream",
     "text": [
      "Euler 1-step 1-order\n",
      "Midpo 2-step 4-order\n",
      "Euler 1-step 1-order\n",
      "Midpo 2-step 4-order\n",
      "Euler 1-step 1-order\n",
      "Midpo 2-step 4-order\n"
     ]
    },
    {
     "data": {
      "text/plain": [
       "array([[1.37639809e+01, 1.35216497e+01],\n",
       "       [1.76735698e+00, 1.14743826e-03],\n",
       "       [1.78841644e-02, 1.14516431e-07]])"
      ]
     },
     "execution_count": 29,
     "metadata": {},
     "output_type": "execute_result"
    }
   ],
   "source": [
    "timesteps1 = np.array([0.1, 0.01, 0.001])\n",
    "schemes = ['Euler 1-step 1-order', 'Midpo 2-step 4-order'] #'Euler 2-step 2-order', 'Euler 3-step 3-order']#'Euler 2-step 3-order exp','Euler 4-step 5-order', 'Euler 3-step 2-order', 'Euler 3-step 1-order']\n",
    "\n",
    "#schemes = ['Euler 2-step 3-order']\n",
    "er1 = convergence_test_midpoint(timesteps, schemes, vdp_jdg, exact_soln =[u, 0.00001])\n",
    "er1"
   ]
  },
  {
   "cell_type": "code",
   "execution_count": 29,
   "metadata": {},
   "outputs": [
    {
     "data": {
      "image/png": "[encoded data removed]",
      "text/plain": [
       "<Figure size 432x288 with 1 Axes>"
      ]
     },
     "metadata": {
      "needs_background": "light"
     },
     "output_type": "display_data"
    }
   ],
   "source": [
    "plt.figure()\n",
    "plt.loglog( timesteps1, er1[:,1], 'b-o', label = '2-step Implicit Midpoint')\n",
    "plt.loglog( timesteps, er[:,1], 'r-o', label = '3-step Backward Euler')\n",
    "plt.loglog([0.01, 0.0001], [0.05, 5e-08], 'gray',  label = 'Slope = 3')\n",
    "plt.loglog([0.1, 0.001], [3, 3.5e-08], 'k',  label = 'Slope = 4')\n",
    "plt.xlabel(r'$\\Delta t$')\n",
    "plt.ylabel('Error in Infinity norm')\n",
    "plt.legend()\n",
    "plt.savefig('implicit_vdp.pdf')"
   ]
  }
 ],
 "metadata": {
  "kernelspec": {
   "display_name": "Python 3",
   "language": "python",
   "name": "python3"
  },
  "language_info": {
   "codemirror_mode": {
    "name": "ipython",
    "version": 3
   },
   "file_extension": ".py",
   "mimetype": "text/x-python",
   "name": "python",
   "nbconvert_exporter": "python",
   "pygments_lexer": "ipython3",
   "version": "3.8.5"
  }
 },
 "nbformat": 4,
 "nbformat_minor": 4
}
