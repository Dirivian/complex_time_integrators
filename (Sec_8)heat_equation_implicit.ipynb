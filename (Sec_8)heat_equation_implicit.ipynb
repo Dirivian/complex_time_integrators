{
 "cells": [
  {
   "cell_type": "markdown",
   "metadata": {},
   "source": [
    "#### This notebook generates convergence plots for the backward Euler and the implicit midpoint method on the heat equation."
   ]
  },
  {
   "cell_type": "code",
   "execution_count": 3,
   "metadata": {},
   "outputs": [],
   "source": [
    "import numpy as np\n",
    "import matplotlib.pyplot as plt"
   ]
  },
  {
   "cell_type": "code",
   "execution_count": 4,
   "metadata": {},
   "outputs": [],
   "source": [
    "weights_lib = { \n",
    "                'Euler 1-step 1-order' : [1],\n",
    "                'Euler 2-step 2-order' : [0.5 +0.5*1j, 0.5-0.5*1j],\n",
    "                'Euler 2-step 3-order' : [1+1j*np.sqrt(2)/2,-1j*np.sqrt(2)/2],\n",
    "                'Euler 2-step 3-order exp' : [0.838852+1j*0.604004, 0.161148-1j*0.604004],\n",
    "                'Euler 2-step symplectic' : [0.5 +0.5*np.sqrt(3)*1j, 0.5-0.5*np.sqrt(3)*1j],\n",
    "                'Euler 3-step 1-order' : [8.29344624e-01 , 5.95442650e-02, 1-8.29344624e-01-5.95442650e-02],\n",
    "                'Euler 3-step 3-order' : [0.1867308533646 + 0.480773884550331*1j, 0.626538293270800, 0.1867308533646 - 0.480773884550331*1j],\n",
    "                'Euler 3-step 2-order' : [0.411741936185254 + 0.430244574248458*1j, 0.176516127629493, 0.411741936185254-0.430244574248458*1j],\n",
    "                'Euler 4-step 4-order' : [   0.04262665650273905+0.394632953172082*1j,\n",
    "                                           0.4573733434973006-0.23510048799854047j, 0.4573733434973006+0.23510048799854047j, 0.04262665650273905-0.394632953172082*1j],\n",
    "                'Euler 4-step 5-order' :[0.468161714486717 - 0.26941588085837*1j, 0.160647423722113 + 0.351192187389791*1j,0.335788810038662 + 0.241712151385474*1j, \n",
    "                                         0.0354020517525083 - 0.323488457916895*1j],\n",
    "                'Midpo 2-step 4-order' :[0.5 + 0.28867513459*1j, 0.5-0.28867513459*1j]}\n",
    "\n",
    "def pathwise(x, path):\n",
    "    stepsize = x[1:]-x[:-1]\n",
    "    contour = [x[0]]\n",
    "    for i in range(len(x)-1):\n",
    "        weights = np.cumsum(weights_lib[path])\n",
    "        substeps = [x[i]+stepsize[i]*weight for weight in weights]\n",
    "        contour +=substeps\n",
    "    return np.array(contour)"
   ]
  },
  {
   "cell_type": "code",
   "execution_count": 6,
   "metadata": {},
   "outputs": [],
   "source": [
    "L = 1 # length of domain\n",
    "N = 7000#spatial steps\n",
    "dx = L/(N-1)\n",
    "x = np.linspace(0, L, N)\n",
    "\n",
    "u_init = np.sin(np.pi*x) # gausssian initial condition\n",
    "\n",
    "#creating central difference matrix\n",
    "def tridiag(a, b, c, d, k1=0, k2=1, k3=2, k4 =3):\n",
    "    return np.diag(a, k1) + np.diag(b, k2)+ np.diag(b, -k2)+np.diag(c, k3)+np.diag(c, -k3)#+np.diag(d, k4)+np.diag(d, -k4)\n",
    "\n",
    "cfl = 1/dx**2\n",
    "\n",
    "b = (4/3)*cfl*np.ones(N-1, dtype=np.complex_)\n",
    "b[-1] = 0 #boundary set to 0\n",
    "b[0] = 0 #boundary set to 0\n",
    "a = -2.5*cfl*np.ones(N, dtype=np.complex_)\n",
    "c = -(1/12)*cfl*np.ones(N-2, dtype=np.complex_)\n",
    "d = (1/90)*cfl*np.ones(N-5, dtype=np.complex_)\n",
    "\n",
    "c[-1] = 0 #boundary set to 0\n",
    "c[0] = 0 #boundary set to 0\n",
    "\n",
    "A = tridiag(a, b, c, d)\n",
    "A[1][:7] = cfl*np.array([0, 15/4, -77/6, 107/6, -13, 61/12, -5/6])\n",
    "A[-2][-7:] = cfl*np.array([-5/6, 61/12,-13, 107/6, -77/6, 15/4, 0])\n",
    "\n",
    "I = np.eye(N, dtype=np.complex_)\n",
    "\n",
    "end = 0.1\n",
    "timestep = 0.001\n",
    "t = np.linspace(0, end, int(end/timestep)+1)\n",
    "scheme = 'Euler 3-step 3-order'\n",
    "path1 = pathwise(t, scheme)\n",
    "steps = path1[1:]-path1[:-1]\n"
   ]
  },
  {
   "cell_type": "code",
   "execution_count": 7,
   "metadata": {},
   "outputs": [],
   "source": [
    "class IVP(object):\n",
    "    def __init__(self, f=None, u0=1., t0=0., T=1., exact=None, desc='', name=''):\n",
    "        self.u0  = u0\n",
    "        self.rhs = f\n",
    "        self.T   = T\n",
    "        self.exact = exact\n",
    "        self.description = desc\n",
    "        self.t0 = t0\n",
    "        self.name = name"
   ]
  },
  {
   "cell_type": "code",
   "execution_count": 8,
   "metadata": {},
   "outputs": [],
   "source": [
    "u0 = u_init\n",
    "rhs = lambda t,u: A\n",
    "exact = lambda t, u0=u0: np.array([np.exp(-np.pi**2*timepoint)*np.sin(np.pi*x) for timepoint in t])\n",
    "heat = IVP(f=rhs, u0=u0, T = 0.1, exact = exact)"
   ]
  },
  {
   "cell_type": "code",
   "execution_count": 9,
   "metadata": {},
   "outputs": [],
   "source": [
    "def convergence_test_backward(timesteps, schemes, ode):\n",
    "    error_matrix = []\n",
    "    for timestep in timesteps:\n",
    "        end = ode.T\n",
    "        t = np.linspace(0, end, int(end/timestep+1))\n",
    "        exact = ode.exact(t, x)\n",
    "        \n",
    "        scheme_error = []\n",
    "        for scheme in schemes:\n",
    "            num_steps = int(scheme[6])\n",
    "            path1 = pathwise(t, scheme)\n",
    "            steps = path1[1:]-path1[:-1]\n",
    "            A_list = []\n",
    "            weights = weights_lib[scheme]\n",
    "            for i in range(num_steps):\n",
    "                weight = weights[i]\n",
    "                inverse = np.linalg.inv(I - weight*timestep*A)\n",
    "                A_list.append(inverse)\n",
    "            \n",
    "            y1 = np.zeros((len(path1), len(ode.u0)), dtype = np.complex_)\n",
    "            y1[0] = ode.u0\n",
    "\n",
    "            i = 1\n",
    "            for step in steps:\n",
    "                y1[i][1:-1] = np.dot(A_list[i%num_steps-1], y1[i-1])[1:-1]\n",
    "                if i%num_steps ==0:\n",
    "                    y1[i] = np.real(y1[i])\n",
    "                i += 1\n",
    "            scheme_error += [np.linalg.norm(y1[::num_steps]-exact, np.inf)]\n",
    "\n",
    "        error_matrix.append(np.array(scheme_error))\n",
    "    return np.array(error_matrix)"
   ]
  },
  {
   "cell_type": "code",
   "execution_count": 10,
   "metadata": {},
   "outputs": [
    {
     "data": {
      "text/plain": [
       "array([[6.06818400e-02],\n",
       "       [7.89041211e-03],\n",
       "       [6.54564886e-05]])"
      ]
     },
     "execution_count": 10,
     "metadata": {},
     "output_type": "execute_result"
    }
   ],
   "source": [
    "timesteps = np.array([0.01,0.005, 0.001])\n",
    "schemes = [ 'Euler 3-step 3-order']#'Euler 2-step 3-order exp','Euler 4-step 5-order', 'Euler 3-step 2-order', 'Euler 3-step 1-order']\n",
    "\n",
    "#schemes = ['Euler 2-step 3-order']\n",
    "er = convergence_test_backward(timesteps, schemes, heat)\n",
    "er"
   ]
  },
  {
   "cell_type": "markdown",
   "metadata": {},
   "source": [
    "# Midpoint Method"
   ]
  },
  {
   "cell_type": "code",
   "execution_count": 12,
   "metadata": {},
   "outputs": [],
   "source": [
    "def convergence_test_midpoint(timesteps, schemes, ode):\n",
    "    error_matrix = []\n",
    "    for timestep in timesteps:\n",
    "        end = ode.T\n",
    "        t = np.linspace(0, end, int(end/timestep+1))\n",
    "        exact = ode.exact(t, x)\n",
    "        \n",
    "        scheme_error = []\n",
    "        for scheme in schemes:\n",
    "            num_steps = int(scheme[6])\n",
    "            path1 = pathwise(t, scheme)\n",
    "            steps = path1[1:]-path1[:-1]\n",
    "            A_list = []\n",
    "            weights = weights_lib[scheme]\n",
    "            for i in range(num_steps):\n",
    "                weight = weights[i]\n",
    "                denom_inv = np.linalg.inv(I - 0.5*weight*timestep*A)\n",
    "                numerator = I + 0.5*weight*timestep*A\n",
    "                A_list.append(np.dot(denom_inv,numerator))\n",
    "            \n",
    "            y1 = np.zeros((len(path1), len(ode.u0)), dtype = np.complex_)\n",
    "            y1[0] = ode.u0\n",
    "\n",
    "            i = 1\n",
    "            for step in steps:\n",
    "                y1[i][1:-1] = np.dot(A_list[i%num_steps-1], y1[i-1])[1:-1]\n",
    "                if i%num_steps ==0:\n",
    "                    y1[i] = np.real(y1[i])\n",
    "                i += 1\n",
    "            scheme_error += [np.linalg.norm(y1[::num_steps]-exact, np.inf)]\n",
    "\n",
    "        error_matrix.append(np.array(scheme_error))\n",
    "    return np.array(error_matrix)"
   ]
  },
  {
   "cell_type": "code",
   "execution_count": 13,
   "metadata": {},
   "outputs": [
    {
     "data": {
      "text/plain": [
       "array([[3.41754671e+01, 1.36963342e-01],\n",
       "       [1.33187548e+00, 2.15365618e-04],\n",
       "       [3.32704694e-01, 1.29784461e-05]])"
      ]
     },
     "execution_count": 13,
     "metadata": {},
     "output_type": "execute_result"
    }
   ],
   "source": [
    "timesteps1 = np.array([0.05, 0.01,  0.005])\n",
    "schemes = ['Euler 1-step 1-order', 'Midpo 2-step 4-order'] #'Euler 2-step 2-order', 'Euler 3-step 3-order']#'Euler 2-step 3-order exp','Euler 4-step 5-order', 'Euler 3-step 2-order', 'Euler 3-step 1-order']\n",
    "\n",
    "#schemes = ['Euler 2-step 3-order']\n",
    "er1 = convergence_test_midpoint(timesteps1, schemes, heat)\n",
    "er1"
   ]
  },
  {
   "cell_type": "code",
   "execution_count": 14,
   "metadata": {},
   "outputs": [
    {
     "data": {
      "image/png": "[encoded data removed]",
      "text/plain": [
       "<Figure size 432x288 with 1 Axes>"
      ]
     },
     "metadata": {
      "needs_background": "light"
     },
     "output_type": "display_data"
    }
   ],
   "source": [
    "plt.figure()\n",
    "plt.loglog(timesteps, er[:, 0], 'r-o', label = '3-step Backward Euler')\n",
    "plt.loglog(timesteps1, er1[:, 1], 'b-o', label = '2-step Implicit Midpoint')\n",
    "plt.loglog([0.01, 0.001], [0.05, 5e-05], 'gray',  label = 'Slope = 3')\n",
    "plt.loglog([0.05, 0.005], [0.1, 1e-05], 'k',  label = 'Slope = 4')\n",
    "plt.xlabel('Timesteps', fontsize =12)\n",
    "plt.ylabel('Error (Infinity norm)', fontsize =12)\n",
    "plt.legend()\n",
    "plt.savefig('implicit_heat.pdf')"
   ]
  },
  {
   "cell_type": "code",
   "execution_count": null,
   "metadata": {},
   "outputs": [],
   "source": []
  }
 ],
 "metadata": {
  "kernelspec": {
   "display_name": "Python 3",
   "language": "python",
   "name": "python3"
  },
  "language_info": {
   "codemirror_mode": {
    "name": "ipython",
    "version": 3
   },
   "file_extension": ".py",
   "mimetype": "text/x-python",
   "name": "python",
   "nbconvert_exporter": "python",
   "pygments_lexer": "ipython3",
   "version": "3.8.5"
  }
 },
 "nbformat": 4,
 "nbformat_minor": 4
}
