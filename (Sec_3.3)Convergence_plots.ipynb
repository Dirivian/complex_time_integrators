{
 "cells": [
  {
   "cell_type": "code",
   "execution_count": 1,
   "metadata": {},
   "outputs": [],
   "source": [
    "import numpy as np\n",
    "import matplotlib.pyplot as plt\n",
    "import nodepy.runge_kutta_method as rk"
   ]
  },
  {
   "cell_type": "code",
   "execution_count": 2,
   "metadata": {},
   "outputs": [],
   "source": [
    "weights_lib = { \n",
    "                'Euler 1-step 1-order' : [1],\n",
    "                'Euler 2-step 2-order' : [0.5 +0.5*1j, 0.5-0.5*1j],\n",
    "                'Euler 2-step 3-order' : [1+1j*np.sqrt(2)/2,-1j*np.sqrt(2)/2],\n",
    "                'Euler 2-step 3-order exp' : [0.838852+1j*0.604004, 0.161148-1j*0.604004],\n",
    "                'Euler 2-step symplectic' : [0.5 +0.5*np.sqrt(3)*1j, 0.5-0.5*np.sqrt(3)*1j],\n",
    "                'Euler 3-step 1-order' : [8.29344624e-01 , 5.95442650e-02, 1-8.29344624e-01-5.95442650e-02],\n",
    "                'Euler 3-step 3-order' : [0.1867308533646 + 0.480773884550331*1j, 0.626538293270800, 0.1867308533646 - 0.480773884550331*1j],\n",
    "                'Euler 3-step 2-order' : [0.411741936185254 + 0.430244574248458*1j, 0.176516127629493, 0.411741936185254-0.430244574248458*1j],\n",
    "                'Euler 4-step 4-order' : [   0.04262665650273905+0.394632953172082*1j,\n",
    "                                           0.4573733434973006-0.23510048799854047j, 0.4573733434973006+0.23510048799854047j, 0.04262665650273905-0.394632953172082*1j],\n",
    "                'Euler 4-step 5-order' :[0.468161714486717 - 0.26941588085837*1j, 0.160647423722113 + 0.351192187389791*1j,0.335788810038662 + 0.241712151385474*1j, 0.0354020517525083 - 0.323488457916895*1j],\n",
    "                'Euler 3-step 2-order better_ketch': [0.5667090896164737 - 0.20973993200649266*1j, 0.3027143968687541 + 0.5314020079354984*1j, 0.13057651351477217 - 0.32166207592900575*1j]\n",
    "}\n",
    "\n"
   ]
  },
  {
   "cell_type": "code",
   "execution_count": 3,
   "metadata": {},
   "outputs": [],
   "source": [
    "def pathwise(x, path):\n",
    "    stepsize = x[1:]-x[:-1]\n",
    "    contour = [x[0]]\n",
    "    for i in range(len(x)-1):\n",
    "        weights = np.cumsum(weights_lib[path])\n",
    "        substeps = [x[i]+stepsize[i]*weight for weight in weights]\n",
    "        contour +=substeps\n",
    "    return np.array(contour)"
   ]
  },
  {
   "cell_type": "code",
   "execution_count": 4,
   "metadata": {},
   "outputs": [],
   "source": [
    "class IVP(object):\n",
    "    def __init__(self, f=None, u0=1., t0=0., T=1., exact=None, desc='', name=''):\n",
    "        self.u0  = u0\n",
    "        self.rhs = f\n",
    "        self.T   = T\n",
    "        self.exact = exact\n",
    "        self.description = desc\n",
    "        self.t0 = t0\n",
    "        self.name = name\n",
    "        \n"
   ]
  },
  {
   "cell_type": "code",
   "execution_count": 5,
   "metadata": {},
   "outputs": [
    {
     "name": "stdout",
     "output_type": "stream",
     "text": [
      "80\n",
      "80\n"
     ]
    }
   ],
   "source": [
    "## Linear \n",
    "u0 = 1.\n",
    "rhs = lambda t,u: u\n",
    "exact = lambda t, u0=u0: u0*np.exp(t)\n",
    "name = 'linear'\n",
    "linear = IVP(f=rhs, u0=u0, T=5, exact = exact, name=name)\n",
    "\n",
    "## simple harmonic motion y''=-y\n",
    "u0 = np.array([0, 1])\n",
    "rhs = lambda t,u: np.dot(np.matrix([[0, 1], [-1, 0] ]), u)\n",
    "exact = lambda t, u0=u0: np.array([np.sin(t), np.cos(t)]).transpose()\n",
    "name = 'shm'\n",
    "shm = IVP(f=rhs, u0=u0, T=5, exact = exact, name=name)\n",
    "\n",
    "## sqaure y''= y**2\n",
    "u0 = 1\n",
    "rhs = lambda t,u: -u**2\n",
    "exact = lambda t, u0=u0: 1/(1+t)\n",
    "name = 'square'\n",
    "square = IVP(f=rhs, u0=u0, T=0.5, exact = exact, name=name)\n",
    "\n",
    "## exp y''= e^y\n",
    "u0 = 1\n",
    "rhs = lambda t,u: -np.exp(u)\n",
    "exact = lambda t, u0=u0: -np.log(t+np.exp(-1))\n",
    "name = 'exp'\n",
    "exponential = IVP(f=rhs, u0=u0, T = 1, exact = exact, name=name)\n",
    "\n",
    "\n",
    "## 'nlsin'\n",
    "u0 = 1.\n",
    "rhs = lambda t,u: 4*u*np.sin(t)**3*np.cos(t)\n",
    "exact = lambda t, u0=u0: u0*np.exp((np.sin(t))**4)\n",
    "description = 'A simple nonlinear scalar problem'\n",
    "name = 'nlsin'\n",
    "nlsin = IVP(f=rhs, u0=u0, T=5., exact=exact, name=name)\n",
    "\n",
    "#van der pol\n",
    "eps = 0.1\n",
    "u0 = np.array([2.,0])\n",
    "rhs = lambda t,u: np.array([u[1], (1/eps)*((1-u[0]**2)*u[1])-u[0]])\n",
    "vdp_jdg = IVP(f=rhs, u0=u0, T = 20, name = 'vdp')\n",
    "\n",
    "\n",
    "def spec_diff(u, n = 1):\n",
    "    N = len(u)\n",
    "    k2 = np.zeros(N)\n",
    "    if ((N%2)==0):\n",
    "        #-even number                                                                                   \n",
    "        for i in range(1,N//2):\n",
    "            k2[i]=i\n",
    "            k2[N-i]=-i\n",
    "    else:\n",
    "        #-odd number                                                                                    \n",
    "        for i in range(1,(N-1)//2):\n",
    "            k2[i]=i\n",
    "            k2[N-i]=-i\n",
    "    ik = (1j*k2)**n\n",
    "    return np.fft.ifft(ik*np.fft.fft(u))\n",
    "\n",
    "\n",
    "\n",
    "Nw = 80\n",
    "x_dom = 2*np.pi*np.arange(0,Nw,1)/Nw\n",
    "u_init1 = np.exp(-7*(x_dom-np.pi)**2)\n",
    "u0 = u_init1\n",
    "rhs = lambda t,u: -spec_diff(u)\n",
    "exact1 = lambda t, u0=u0: np.array([np.exp(-7*(x_dom-np.pi -timepoint)**2) for timepoint in t])\n",
    "print(len(exact1([0,1],u0)[0]))\n",
    "name = 'wave'\n",
    "wave = IVP(f=rhs, u0=u0, T = 1, exact = exact1, name = name)\n",
    "\n",
    "N = 70\n",
    "x = 2*np.pi*np.arange(0,N,1)/N\n",
    "b = 1.5\n",
    "visc = 0.1\n",
    "u_init2 = 2*visc*np.sin(x)/(b+np.cos(x))\n",
    "u0 = u_init2\n",
    "rhs = lambda t,u: -0.5*spec_diff(u**2)+visc*spec_diff(u,2)\n",
    "exact2 = lambda t, u0=u0: np.array([2*visc*np.exp(-visc*timepoint)*np.sin(x)/(b+np.exp(-visc*timepoint)*np.cos(x)) for timepoint in t])\n",
    "name = 'burgers'\n",
    "burgers = IVP(f=rhs, u0=u0, T = 2, exact = exact2, name = name)\n",
    "print(len(wave.u0))"
   ]
  },
  {
   "cell_type": "code",
   "execution_count": 6,
   "metadata": {},
   "outputs": [],
   "source": [
    "def convergence_test(timesteps, schemes, ode, exact_soln =[]):\n",
    "    error_matrix = []\n",
    "    for timestep in timesteps:\n",
    "        end = ode.T\n",
    "        t = np.linspace(0, end, int(end/timestep+1))\n",
    "        if exact_soln ==[]:\n",
    "            exact = ode.exact(t)\n",
    "        else:\n",
    "            print(int(timestep/exact_soln[1]), timestep/exact_soln[1])\n",
    "            exact = np.array(exact_soln[0][::int(timestep/exact_soln[1])])\n",
    "        \n",
    "        scheme_error = []\n",
    "        for scheme in schemes:\n",
    "            path1 = pathwise(t, scheme)\n",
    "            steps = path1[1:]-path1[:-1]\n",
    "            if isinstance(ode.u0, (list, np.ndarray)):\n",
    "                y1 = np.zeros((len(path1), len(ode.u0)), dtype = np.clongdouble)\n",
    "            else:\n",
    "                y1 = np.zeros((len(path1)), dtype = np.clongdouble)\n",
    "            y1[0] = ode.u0\n",
    "            #print(len(y1[0]))\n",
    "            i = 1\n",
    "            for step in steps:\n",
    "                y1[i] = y1[i-1] + step*ode.rhs(path1[i-1], y1[i-1])\n",
    "                if i%int(scheme[6])==0:\n",
    "                    y1[i] = np.real(y1[i])\n",
    "                i += 1\n",
    "            scheme_error += [np.linalg.norm(y1[::int(scheme[6])]-exact, np.inf)]\n",
    "\n",
    "        error_matrix.append(np.array(scheme_error))\n",
    "    return np.array(error_matrix)"
   ]
  },
  {
   "cell_type": "markdown",
   "metadata": {},
   "source": [
    "### Using odes from nodepy"
   ]
  },
  {
   "cell_type": "code",
   "execution_count": 173,
   "metadata": {},
   "outputs": [],
   "source": [
    "import nodepy.runge_kutta_method as rk\n",
    "import nodepy.convergence as cv\n",
    "from nodepy import ivp\n",
    "\n",
    "\n",
    "#IVP from nodepy\n",
    "myivp = ivp.load_ivp('vdp')\n",
    "#myivp.rhs =  lambda t,u: 4.*u*np.sin(t)**3*np.cos(t)\n",
    "rk4 = rk.loadRKM('RK44')\n",
    "timesteps = np.array([   0.0001,0.001, 0.004, 0.008, 0.01 ])\n",
    "schemes = ['Euler 1-step 1-order', 'Euler 2-step 2-order', 'Euler 3-step 3-order','Euler 4-step 5-order', 'Euler 3-step 2-order', 'Euler 3-step 1-order']\n",
    "\n",
    "\n",
    "rk4 = rk.loadRKM('RK44')\n",
    "vdp_jdg.T = 20\n",
    "t, u = rk4(vdp_jdg, dt = 0.01)rk4 = rk.loadRKM('RK44')\n",
    "vdp_exact = u"
   ]
  },
  {
   "cell_type": "markdown",
   "metadata": {},
   "source": [
    "### Convergence Plot"
   ]
  },
  {
   "cell_type": "code",
   "execution_count": 7,
   "metadata": {},
   "outputs": [
    {
     "name": "stdout",
     "output_type": "stream",
     "text": [
      "burgers\n"
     ]
    }
   ],
   "source": [
    "t = np.linspace(0, 1, 10)\n",
    "path2 = pathwise(t, 'Euler 2-step 2-order')\n",
    "path3 = pathwise(t, 'Euler 3-step 3-order')\n",
    "odes = [linear, shm, square, exponential, vdp_jdg, wave, burgers]\n",
    "print(burgers.name)\n",
    "timesteps = [0.05,  0.01, 0.005, 0.0005]\n",
    "schemes = ['Euler 1-step 1-order', 'Euler 2-step 2-order', 'Euler 3-step 3-order']"
   ]
  },
  {
   "cell_type": "code",
   "execution_count": 24,
   "metadata": {},
   "outputs": [
    {
     "name": "stdout",
     "output_type": "stream",
     "text": [
      "10000 10000.0\n",
      "1000 1000.0000000000001\n",
      "500 500.00000000000006\n",
      "100 100.00000000000001\n",
      "500 500.00000000000006\n"
     ]
    },
    {
     "data": {
      "image/png": "[encoded data removed]",
      "text/plain": [
       "<Figure size 432x288 with 6 Axes>"
      ]
     },
     "metadata": {
      "needs_background": "light"
     },
     "output_type": "display_data"
    }
   ],
   "source": [
    "mosaic = \"\"\"\n",
    "    ABF\n",
    "    CDE\n",
    "    CDE\n",
    "    CDE\n",
    "    CDE\n",
    "    CDE\n",
    "    \"\"\"\n",
    "marker_lib = {\n",
    "    'linear' : 'o', \n",
    "    'shm' : '+', \n",
    "    'square' : '.', \n",
    "    'exp' : 'p', \n",
    "    'nlsin' : 's',\n",
    "    'wave' : 'v',\n",
    "    'burgers' : '^',\n",
    "    'vdp' : 'x'\n",
    "    \n",
    "}\n",
    "timesteps_general = [0.01, 0.001,  0.0005, 0.0001 ]\n",
    "timesteps_vdp = [.01, 0.001,  0.0005, 0.0001, 0.0005 ]#[0.05,  0.01, 0.001, 0.0001]\n",
    "timesteps_burgers = [0.01, 0.005,0.001, 0.0005, 0.0001]\n",
    "timesteps_wave = [ 0.01,0.005, 0.001, 0.0001 ]\n",
    "t = np.linspace(0, 1, 4)\n",
    "path2 = pathwise(t, 'Euler 2-step 2-order')\n",
    "path3 = pathwise(t, 'Euler 3-step 3-order')\n",
    "fig = plt.figure(constrained_layout=True)\n",
    "ax_dict = fig.subplot_mosaic(mosaic)\n",
    "ax_dict['D'].loglog([10**(-4), 10**(-2)], [10**(-5), 10**(-1)],'k-.', label = 'slope 2')\n",
    "ax_dict['E'].loglog([10**(-4), 10**(-2)], [10**(-8), 10**(-2)],'r-.', label = 'slope 3')\n",
    "ax_dict['C'].loglog([10**(-4), 10**(-2)], [0.001, 0.1],'b-.', label = 'slope 1')\n",
    "\n",
    "for ode in odes:\n",
    "    if ode.name == 'burgers':\n",
    "        timesteps = timesteps_burgers\n",
    "        er = convergence_test(timesteps, schemes, ode)\n",
    "        ax_dict['E'].loglog(timesteps[:-1], er[:-1, 2], 'gray', marker=marker_lib[ode.name])\n",
    "        ax_dict['C'].loglog(timesteps, er[:, 0], 'gray', label = ode.name, marker=marker_lib[ode.name])\n",
    "    elif ode.name == 'wave':\n",
    "        timesteps = timesteps_wave\n",
    "        er = convergence_test(timesteps, schemes, ode)\n",
    "        ax_dict['C'].loglog(timesteps, er[:, 0], 'gray', label = ode.name, marker=marker_lib[ode.name])\n",
    "        ax_dict['E'].loglog(timesteps, er[:, 2], 'gray', marker=marker_lib[ode.name])\n",
    "    elif ode.name =='vdp':\n",
    "        timesteps = timesteps_vdp\n",
    "        er = convergence_test(timesteps, schemes, ode, exact_soln = [vdp_exact, 0.000001])\n",
    "        ax_dict['E'].loglog(timesteps, er[:, 2], 'gray', marker=marker_lib[ode.name])\n",
    "        ax_dict['C'].loglog(timesteps[1:], er[1:, 0], 'gray', label = ode.name, marker=marker_lib[ode.name])\n",
    "    else:\n",
    "        timesteps = timesteps_general\n",
    "        er = convergence_test(timesteps, schemes, ode)\n",
    "        ax_dict['E'].loglog(timesteps, er[:, 2], 'gray', marker=marker_lib[ode.name])\n",
    "        ax_dict['C'].loglog(timesteps, er[:, 0], 'gray', label = ode.name, marker=marker_lib[ode.name])\n",
    "    ax_dict['D'].loglog(timesteps, er[:, 1], 'gray',  marker=marker_lib[ode.name])\n",
    "    \n",
    "\n",
    "ax_dict['C'].set_ylim([1e-14, 50])\n",
    "ax_dict['D'].set_ylim([1e-14, 50])\n",
    "ax_dict['E'].set_ylim([1e-14, 50])\n",
    "ax_dict['D'].set_yticklabels([])\n",
    "ax_dict['E'].set_yticklabels([])\n",
    "ax_dict['A'].plot(t, np.zeros(len(t)) +0.23 , 'b-o')\n",
    "ax_dict['A'].set_ylim([-1e-1, 1])\n",
    "ax_dict['A'].axis('off')\n",
    "ax_dict['B'].plot(path2.real, path2.imag , 'k-o')\n",
    "ax_dict['B'].set_ylim([-1e-1, 0.25])\n",
    "ax_dict['B'].axis('off')\n",
    "ax_dict['F'].plot(path3.real, path3.imag , 'r-o')\n",
    "ax_dict['F'].set_ylim([-1e-1, 0.25])\n",
    "ax_dict['F'].axis('off')\n",
    "ax_dict['C'].set_ylabel('Error (Infinity Norm)')\n",
    "ax_dict['D'].set_xlabel('Step Size ' + r'($\\Delta t$)',  fontsize = 10)\n",
    "\n",
    "\n",
    "handle1, label1 = ax_dict['C'].get_legend_handles_labels()\n",
    "handle2, label2 = ax_dict['D'].get_legend_handles_labels()\n",
    "handle3, label3 = ax_dict['E'].get_legend_handles_labels()\n",
    "labels = label1[0:2] +label2+[label1[2]]+label3+label1[3:]\n",
    "handles = handle1[0:2] +handle2+[handle1[2]]+handle3+handle1[3:]\n",
    "\n",
    "fig.legend(handles, labels, bbox_to_anchor=(0.975, 0), ncol =5, fontsize = 9)\n",
    "plt.savefig('convergence_all_v2.pdf',bbox_inches=\"tight\")"
   ]
  },
  {
   "cell_type": "code",
   "execution_count": null,
   "metadata": {},
   "outputs": [],
   "source": []
  }
 ],
 "metadata": {
  "kernelspec": {
   "display_name": "Python 3",
   "language": "python",
   "name": "python3"
  },
  "language_info": {
   "codemirror_mode": {
    "name": "ipython",
    "version": 3
   },
   "file_extension": ".py",
   "mimetype": "text/x-python",
   "name": "python",
   "nbconvert_exporter": "python",
   "pygments_lexer": "ipython3",
   "version": "3.8.5"
  }
 },
 "nbformat": 4,
 "nbformat_minor": 2
}
