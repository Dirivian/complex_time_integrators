{
 "cells": [
  {
   "cell_type": "markdown",
   "metadata": {},
   "source": [
    "In this section, we show how to derive a third order 2-step path for $\\dot{y} = e^y$"
   ]
  },
  {
   "cell_type": "code",
   "execution_count": 6,
   "metadata": {},
   "outputs": [],
   "source": [
    "import numpy as np\n",
    "import matplotlib.pyplot as plt\n",
    "import sympy as sp"
   ]
  },
  {
   "cell_type": "markdown",
   "metadata": {},
   "source": [
    "Now, we find the taylor expansion of our 2-step time integrator(y2) "
   ]
  },
  {
   "cell_type": "code",
   "execution_count": 23,
   "metadata": {},
   "outputs": [
    {
     "name": "stdout",
     "output_type": "stream",
     "text": [
      "Poly(w_1*exp(y)*dt + y, dt, domain='EX')\n",
      "y + dt \\left(w_{1} e^{y} + w_{2} e^{y}\\right) + dt^{2} w_{1} w_{2} e^{2 y} + 0.5 dt^{3} w_{1}^{2} w_{2} e^{3 y} + O\\left(dt^{4}\\right)\n"
     ]
    },
    {
     "data": {
      "text/latex": [
       "$\\displaystyle \\operatorname{Poly}{\\left( 0.5 w_{1}^{2} w_{2} e^{3 y} dt^{3} + w_{1} w_{2} e^{2 y} dt^{2} + \\left(w_{1} e^{y} + w_{2} e^{y}\\right) dt + y, dt, domain=EX \\right)}$"
      ],
      "text/plain": [
       "Poly(0.5*w_1**2*w_2*exp(3*y)*dt**3 + w_1*w_2*exp(2*y)*dt**2 + (w_1*exp(y) + w_2*exp(y))*dt + y, dt, domain='EX')"
      ]
     },
     "execution_count": 23,
     "metadata": {},
     "output_type": "execute_result"
    }
   ],
   "source": [
    "a, b, w_1, w_2, w_3, dt, n = sp.symbols('a, b, w_1, w_2, w_3, dt, n')\n",
    "t, t0,  y = sp.symbols('t, t0, y')\n",
    "\n",
    "#a = 0.1867308533646 - 0.480773884550331*sp.I\n",
    "#b = 0.62653829327080\n",
    "#c = 0.1867308533646 +0.480773884550331*sp.I\n",
    "\n",
    "h = sp.Function('h')(t)\n",
    "g = sp.Function('g')(t)\n",
    "f = sp.exp(y)\n",
    "\n",
    "def ft(tw, yw):\n",
    "    tr = tw -t0\n",
    "    yr = yw - y\n",
    "    \n",
    "    dp1 = tr*sp.diff(f, t)+yr*sp.diff(f,y )\n",
    "    dp2 = tr*sp.diff(dp1,t)+  yr*sp.diff(dp1,y)\n",
    "    dp2 = tr**2*sp.diff(sp.diff(f, t),t) + yr**2*sp.diff(sp.diff(f, y),y) + 2*tr*yr*sp.diff(sp.diff(f, t),y)\n",
    "    \n",
    "    return f + dp1 +(1/2)*dp2 +0\n",
    "\n",
    "\n",
    "\n",
    "y0 = y\n",
    "y1 = y0 +w_1*dt*ft(t0, y0)\n",
    "y2 = y1 +w_2*dt*ft(t0 + w_1*dt, y1)\n",
    "y3 = y2 +w_3*dt*ft(t0 + w_1*dt +w_2*dt, y2)\n",
    "\n",
    "print(sp.Poly(y1.expand(), 1*dt))\n",
    "ans = sp.Poly(y2.expand(), 1*dt)\n",
    "print(sp.latex(ans+sp.O(dt**4)))\n",
    "ans"
   ]
  },
  {
   "cell_type": "code",
   "execution_count": 19,
   "metadata": {},
   "outputs": [
    {
     "data": {
      "text/latex": [
       "$\\displaystyle \\operatorname{Poly}{\\left( 1.0 w_{1}^{2} w_{2} y^{4} dt^{3} + 2.0 w_{1} w_{2} y^{3} dt^{2} + \\left(1.0 w_{1} y^{2} + 1.0 w_{2} y^{2}\\right) dt + 1.0 y, dt, domain=\\mathbb{R}\\left[y, w_{1}, w_{2}\\right] \\right)}$"
      ],
      "text/plain": [
       "Poly(1.0*w_1**2*w_2*y**4*dt**3 + 2.0*w_1*w_2*y**3*dt**2 + (1.0*w_1*y**2 + 1.0*w_2*y**2)*dt + 1.0*y, dt, domain='RR[y,w_1,w_2]')"
      ]
     },
     "execution_count": 19,
     "metadata": {},
     "output_type": "execute_result"
    }
   ],
   "source": [
    "ans"
   ]
  },
  {
   "cell_type": "markdown",
   "metadata": {},
   "source": [
    "We compare it to the taylor expansion of the true solution to the diff equation at t+dt"
   ]
  },
  {
   "cell_type": "code",
   "execution_count": 25,
   "metadata": {},
   "outputs": [
    {
     "data": {
      "text/latex": [
       "$\\displaystyle 0.333333333333333 dt^{3} e^{3 y} + 0.5 dt^{2} e^{2 y} + dt e^{y} + y$"
      ],
      "text/plain": [
       "0.333333333333333*dt**3*exp(3*y) + 0.5*dt**2*exp(2*y) + dt*exp(y) + y"
      ]
     },
     "execution_count": 25,
     "metadata": {},
     "output_type": "execute_result"
    }
   ],
   "source": [
    "h = sp.Function('h')(t)\n",
    "g = sp.Function('g')(t)\n",
    "deriv = sp.exp(y)\n",
    "\n",
    "def td(deriv, n = 1):\n",
    "    f_v = deriv\n",
    "    for i in range(n):\n",
    "        deriv = sp.diff(deriv, t) + f_v*sp.diff(deriv, y)\n",
    "    return deriv\n",
    "\n",
    "exprer = y + dt*deriv + 0.5*dt**2*td(deriv, 1)+ (1/6)*dt**3*td(deriv, 2)\n",
    "exprer.expand()"
   ]
  },
  {
   "cell_type": "markdown",
   "metadata": {},
   "source": [
    "So, to have 3rd order accuracy, we need\n",
    "\n",
    "\n",
    "$w_1 +w_2 =1$\n",
    "$Re(w_1w_2) = \\frac{1}{2}$\n",
    "$Re(w_1^2w_2) = \\frac{2}{3}$"
   ]
  },
  {
   "cell_type": "markdown",
   "metadata": {},
   "source": [
    "One can change the functions f and deriv to find similar conditions for other functions"
   ]
  }
 ],
 "metadata": {
  "kernelspec": {
   "display_name": "Python 3",
   "language": "python",
   "name": "python3"
  },
  "language_info": {
   "codemirror_mode": {
    "name": "ipython",
    "version": 3
   },
   "file_extension": ".py",
   "mimetype": "text/x-python",
   "name": "python",
   "nbconvert_exporter": "python",
   "pygments_lexer": "ipython3",
   "version": "3.8.5"
  }
 },
 "nbformat": 4,
 "nbformat_minor": 4
}
