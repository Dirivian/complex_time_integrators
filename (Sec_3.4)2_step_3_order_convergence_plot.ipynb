{
 "cells": [
  {
   "cell_type": "code",
   "execution_count": 2,
   "metadata": {},
   "outputs": [],
   "source": [
    "import numpy as np\n",
    "import matplotlib.pyplot as plt"
   ]
  },
  {
   "cell_type": "code",
   "execution_count": 3,
   "metadata": {},
   "outputs": [],
   "source": [
    "weights_lib = { \n",
    "                'Euler 1-step 1-order' : [1],\n",
    "                'Euler 2-step 2-order' : [0.5 +0.5*1j, 0.5-0.5*1j],\n",
    "                'Euler 2-step 3-order' : [1+1j*np.sqrt(2)/2,-1j*np.sqrt(2)/2],\n",
    "                'Euler 2-step 3-order exp' : [0.838852+1j*0.604004, 0.161148-1j*0.604004],\n",
    "    }\n",
    "\n",
    "def pathwise(x, path):\n",
    "    stepsize = x[1:]-x[:-1]\n",
    "    contour = [x[0]]\n",
    "    for i in range(len(x)-1):\n",
    "        weights = np.cumsum(weights_lib[path])\n",
    "        substeps = [x[i]+stepsize[i]*weight for weight in weights]\n",
    "        contour +=substeps\n",
    "    return np.array(contour)\n",
    "\n",
    "\n",
    "class IVP(object):\n",
    "    def __init__(self, f=None, u0=1., t0=0., T=1., exact=None, desc='', name=''):\n",
    "        self.u0  = u0\n",
    "        self.rhs = f\n",
    "        self.T   = T\n",
    "        self.exact = exact\n",
    "        self.description = desc\n",
    "        self.t0 = t0\n",
    "        self.name = name\n",
    "        \n",
    "        \n",
    "## Linear \n",
    "u0 = 1.\n",
    "rhs = lambda t,u: u\n",
    "exact = lambda t, u0=u0: u0*np.exp(t)\n",
    "name = 'linear'\n",
    "linear = IVP(f=rhs, u0=u0, T=5, exact = exact, name=name)\n",
    "\n",
    "\n",
    "## square y''= y**2\n",
    "u0 = 1\n",
    "rhs = lambda t,u: -u**2\n",
    "exact = lambda t, u0=u0: 1/(1+t)\n",
    "name = 'square'\n",
    "square = IVP(f=rhs, u0=u0, T=0.5, exact = exact, name=name)\n",
    "\n",
    "## exp y''= e^y\n",
    "u0 = 1\n",
    "rhs = lambda t,u: -np.exp(u)\n",
    "exact = lambda t, u0=u0: -np.log(t+np.exp(-1))\n",
    "name = 'exp'\n",
    "exponential = IVP(f=rhs, u0=u0, T = 1, exact = exact, name=name)"
   ]
  },
  {
   "cell_type": "code",
   "execution_count": 4,
   "metadata": {},
   "outputs": [],
   "source": [
    "def convergence_test(timesteps, schemes, ode, exact_soln =[]):\n",
    "    error_matrix = []\n",
    "    for timestep in timesteps:\n",
    "        end = ode.T\n",
    "        t = np.linspace(0, end, int(end/timestep+1))\n",
    "        if exact_soln ==[]:\n",
    "            exact = ode.exact(t)\n",
    "        else:\n",
    "            print(int(timestep/exact_soln[1]), timestep/exact_soln[1])\n",
    "            exact = np.array(exact_soln[0][::int(timestep/exact_soln[1])])\n",
    "        \n",
    "        scheme_error = []\n",
    "        for scheme in schemes:\n",
    "            path1 = pathwise(t, scheme)\n",
    "            steps = path1[1:]-path1[:-1]\n",
    "            if isinstance(ode.u0, (list, np.ndarray)):\n",
    "                y1 = np.zeros((len(path1), len(ode.u0)), dtype = np.clongdouble)\n",
    "            else:\n",
    "                y1 = np.zeros((len(path1)), dtype = np.clongdouble)\n",
    "            y1[0] = ode.u0\n",
    "            #print(len(y1[0]))\n",
    "            i = 1\n",
    "            for step in steps:\n",
    "                y1[i] = y1[i-1] + step*ode.rhs(path1[i-1], y1[i-1])\n",
    "                if i%int(scheme[6])==0:\n",
    "                    y1[i] = np.real(y1[i])\n",
    "                i += 1\n",
    "            scheme_error += [np.linalg.norm(y1[::int(scheme[6])]-exact, np.inf)]\n",
    "\n",
    "        error_matrix.append(np.array(scheme_error))\n",
    "    return np.array(error_matrix)"
   ]
  },
  {
   "cell_type": "code",
   "execution_count": 5,
   "metadata": {},
   "outputs": [
    {
     "data": {
      "image/png": "[encoded data removed]",
      "text/plain": [
       "<Figure size 432x288 with 1 Axes>"
      ]
     },
     "metadata": {
      "needs_background": "light"
     },
     "output_type": "display_data"
    }
   ],
   "source": [
    "timesteps = np.array([0.001, 0.005, 0.01, 0.02, 0.1])\n",
    "#schemes = ['Euler 1-step 1-order', 'Euler 2-step 2-order', 'Euler 3-step 3-order','Euler 2-step 3-order exp','Euler 4-step 5-order', 'Euler 3-step 2-order', 'Euler 3-step 1-order']\n",
    "schemes = ['Euler 2-step 3-order', 'Euler 2-step 3-order exp']\n",
    "odes = [square, exponential]\n",
    "\n",
    "ax = plt.subplot(111)\n",
    "\n",
    "for ode in odes:\n",
    "    er = convergence_test(timesteps, schemes, ode)\n",
    "    if ode.name == 'square':\n",
    "        ax.loglog(timesteps, er[:, 0], '-s', color = 'gray', label = r'$\\dot{y}= -y^2$')\n",
    "    else:\n",
    "        ax.loglog(timesteps, er[:, 1], '-o', color = 'gray',label = r'$\\dot{y}= -e^y$')\n",
    "    #ax.loglog(timesteps, er[:, 2], 'r',label = '3-3')\n",
    "    \n",
    "ax.loglog([10**(-3),10**(-1)], [1.5*10**(-9), 1.5*10**(-3)],'r', label = 'slope 3')\n",
    "\n",
    "ax.legend()\n",
    "plt.title('2 step 3rd order paths for specific odes')\n",
    "plt.xlabel(r'$\\Delta t$', fontsize = 12)\n",
    "plt.ylabel('Error (Infinity norm)', fontsize = 12)\n",
    "plt.savefig('2step3.pdf')"
   ]
  },
  {
   "cell_type": "code",
   "execution_count": null,
   "metadata": {},
   "outputs": [],
   "source": []
  }
 ],
 "metadata": {
  "kernelspec": {
   "display_name": "Python 3",
   "language": "python",
   "name": "python3"
  },
  "language_info": {
   "codemirror_mode": {
    "name": "ipython",
    "version": 3
   },
   "file_extension": ".py",
   "mimetype": "text/x-python",
   "name": "python",
   "nbconvert_exporter": "python",
   "pygments_lexer": "ipython3",
   "version": "3.8.5"
  }
 },
 "nbformat": 4,
 "nbformat_minor": 4
}
