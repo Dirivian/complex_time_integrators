{
 "cells": [
  {
   "cell_type": "markdown",
   "metadata": {},
   "source": [
    "Here, we use our complex paths to time integrate the viscous burgers equations and show the results in a final convergence plot."
   ]
  },
  {
   "cell_type": "code",
   "execution_count": 1,
   "metadata": {},
   "outputs": [],
   "source": [
    "import numpy as np\n",
    "import matplotlib.pyplot as plt"
   ]
  },
  {
   "cell_type": "markdown",
   "metadata": {},
   "source": [
    "The complex paths"
   ]
  },
  {
   "cell_type": "code",
   "execution_count": 2,
   "metadata": {},
   "outputs": [],
   "source": [
    "weights_lib = { \n",
    "                'Euler 1-step 1-order' : [1],\n",
    "                'Euler 2-step 2-order' : [0.5 +0.5*1j, 0.5-0.5*1j],\n",
    "                'Euler 2-step 3-order' : [1+1j*np.sqrt(2)/2,-1j*np.sqrt(2)/2],\n",
    "                'Euler 2-step 3-order exp' : [0.838852+1j*0.604004, 0.161148-1j*0.604004],\n",
    "                'Euler 2-step symplectic' : [0.5 +0.5*np.sqrt(3)*1j, 0.5-0.5*np.sqrt(3)*1j],\n",
    "                'Euler 3-step 1-order' : [8.29344624e-01 , 5.95442650e-02, 1-8.29344624e-01-5.95442650e-02],\n",
    "                'Euler 3-step 3-order' : [0.1867308533646 + 0.480773884550331*1j, 0.626538293270800, 0.1867308533646 - 0.480773884550331*1j],\n",
    "                'Euler 3-step 2-order' : [0.411741936185254 + 0.430244574248458*1j, 0.176516127629493, 0.411741936185254-0.430244574248458*1j],\n",
    "                'Midpo 2-step 4-order' :[0.5 + 0.28867513459*1j, 0.5-0.28867513459*1j]}\n",
    "\n",
    "def pathwise(x, path):\n",
    "    stepsize = x[1:]-x[:-1]\n",
    "    contour = [x[0]]\n",
    "    for i in range(len(x)-1):\n",
    "        weights = np.cumsum(weights_lib[path])\n",
    "        substeps = [x[i]+stepsize[i]*weight for weight in weights]\n",
    "        contour +=substeps\n",
    "    return np.array(contour)"
   ]
  },
  {
   "cell_type": "markdown",
   "metadata": {},
   "source": [
    "Spatial differentiation is done by fourier differentiation."
   ]
  },
  {
   "cell_type": "code",
   "execution_count": 3,
   "metadata": {},
   "outputs": [],
   "source": [
    "def spec_diff(u, n = 1):\n",
    "    #fourier differentiation\n",
    "    N = len(u)\n",
    "    k2 = np.zeros(N)\n",
    "    if ((N%2)==0):\n",
    "        #-even number                                                                                   \n",
    "        for i in range(1,N//2):\n",
    "            k2[i]=i\n",
    "            k2[N-i]=-i\n",
    "    else:\n",
    "        #-odd number                                                                                    \n",
    "        for i in range(1,(N-1)//2):\n",
    "            k2[i]=i\n",
    "            k2[N-i]=-i\n",
    "    ik = (1j*k2)**n\n",
    "    return np.fft.ifft(ik*np.fft.fft(u))"
   ]
  },
  {
   "cell_type": "markdown",
   "metadata": {},
   "source": [
    "The first order path (forward Euler)"
   ]
  },
  {
   "cell_type": "code",
   "execution_count": 5,
   "metadata": {},
   "outputs": [],
   "source": [
    "N = 100\n",
    "x_dom = 2*np.pi*np.arange(0,N,1)/N\n",
    "u_init = np.exp(-7*(x_dom-np.pi)**2)\n",
    "\n",
    "T_final = 3\n",
    "exact =  np.exp(-7*(x_dom-np.pi -T_final)**2)\n",
    "timestep = 0.025\n",
    "visc = 0.01\n",
    "t = np.linspace(0, T_final, int(T_final/timestep+1))\n",
    "\n",
    "scheme = 'Euler 1-step 1-order'\n",
    "path1 = pathwise(t, scheme)\n",
    "steps = path1[1:]-path1[:-1]\n",
    "\n",
    "y1 = np.zeros((len(path1), len(u_init)), dtype = np.complex_)\n",
    "\n",
    "y1[0] = u_init\n",
    "i = 1\n",
    "for step in steps:\n",
    "    y1[i] = y1[i-1] - step*(0.5*spec_diff(y1[i-1]**2)-visc*spec_diff(y1[i-1],2))\n",
    "    if i%int(scheme[6])==0:\n",
    "        y1[i] = np.real(y1[i])\n",
    "    i += 1\n",
    "\n",
    "order_1 = y1"
   ]
  },
  {
   "cell_type": "markdown",
   "metadata": {},
   "source": [
    "The second order path "
   ]
  },
  {
   "cell_type": "code",
   "execution_count": 6,
   "metadata": {},
   "outputs": [],
   "source": [
    "N = 100\n",
    "x = 2*np.pi*np.arange(0,N,1)/N\n",
    "#u_init = np.ones(N)*(np.abs(x-np.pi)<1)\n",
    "u_init = np.exp(-7*(x-np.pi)**2)\n",
    "#u_init = np.sin(x)\n",
    "\n",
    "end = 3\n",
    "exact =  np.exp(-7*(x-np.pi -end)**2)\n",
    "#exact = np.ones(N)*(np.abs(x-np.pi-end)<1)\n",
    "#exact = np.sin(x-end)\n",
    "timestep = 0.05\n",
    "visc = 0.01\n",
    "t = np.linspace(0, end, int(end/timestep+1))\n",
    "scheme = 'Euler 2-step 2-order'\n",
    "path1 = pathwise(t, scheme)\n",
    "steps = path1[1:]-path1[:-1]\n",
    "\n",
    "y2 = np.zeros((len(path1), len(u_init)), dtype = np.complex_)\n",
    "\n",
    "y2[0] = u_init\n",
    "i = 1\n",
    "for step in steps:\n",
    "    #print(y[i-1])\n",
    "    y2[i] = y2[i-1] - step*(0.5*spec_diff(y2[i-1]**2)-visc*spec_diff(y2[i-1],2))\n",
    "    if i%int(scheme[6])==0:\n",
    "        y2[i] = np.real(y2[i])\n",
    "    i += 1\n",
    "\n",
    "order_2 = y2"
   ]
  },
  {
   "cell_type": "markdown",
   "metadata": {},
   "source": [
    "The 3rd path with a very small timestep. Used as the reference for error for the solutions from the other two paths"
   ]
  },
  {
   "cell_type": "code",
   "execution_count": 7,
   "metadata": {},
   "outputs": [],
   "source": [
    "N = 100\n",
    "x = 2*np.pi*np.arange(0,N,1)/N\n",
    "#u_init = np.ones(N)*(np.abs(x-np.pi)<1)\n",
    "u_init = np.exp(-7*(x-np.pi)**2)\n",
    "#u_init = np.sin(x)\n",
    "\n",
    "end = 3\n",
    "exact =  np.exp(-7*(x-np.pi -end)**2)\n",
    "#exact = np.ones(N)*(np.abs(x-np.pi-end)<1)\n",
    "#exact = np.sin(x-end)\n",
    "timestep = 0.00001\n",
    "visc = 0.01\n",
    "t = np.linspace(0, end,  int(end/timestep+1))\n",
    "scheme = 'Euler 3-step 3-order'\n",
    "path1 = pathwise(t, scheme)\n",
    "steps = path1[1:]-path1[:-1]\n",
    "\n",
    "y1 = np.zeros((len(path1), len(u_init)), dtype = np.complex_)\n",
    "\n",
    "y1[0] = u_init\n",
    "i = 1\n",
    "for step in steps:\n",
    "    #print(y[i-1])\n",
    "    y1[i] = y1[i-1] - step*(0.5*spec_diff(y1[i-1]**2)-visc*spec_diff(y1[i-1],2))\n",
    "    if i%int(scheme[6])==0:\n",
    "        y1[i] = np.real(y1[i])\n",
    "    i += 1\n",
    "\n",
    "    \n",
    "super_accurate = y1"
   ]
  },
  {
   "cell_type": "markdown",
   "metadata": {},
   "source": [
    "Error"
   ]
  },
  {
   "cell_type": "code",
   "execution_count": 8,
   "metadata": {},
   "outputs": [
    {
     "name": "stderr",
     "output_type": "stream",
     "text": [
      "C:\\Users\\jithi\\anaconda3\\lib\\site-packages\\matplotlib\\cbook\\__init__.py:1289: ComplexWarning: Casting complex values to real discards the imaginary part\n",
      "  return np.asarray(x, float)\n",
      "C:\\Users\\jithi\\anaconda3\\lib\\site-packages\\matplotlib\\cbook\\__init__.py:1289: ComplexWarning: Casting complex values to real discards the imaginary part\n",
      "  return np.asarray(x, float)\n"
     ]
    },
    {
     "data": {
      "text/plain": [
       "[<matplotlib.lines.Line2D at 0x18b8f6258b0>]"
      ]
     },
     "execution_count": 8,
     "metadata": {},
     "output_type": "execute_result"
    },
    {
     "data": {
      "image/png": "[encoded data removed]",
      "text/plain": [
       "<Figure size 432x288 with 1 Axes>"
      ]
     },
     "metadata": {
      "needs_background": "light"
     },
     "output_type": "display_data"
    }
   ],
   "source": [
    "#plt.plot(x, y1[-1]-y2[-1], 'b' )\n",
    "#plt.plot(x, y1[-1], 'b' )\n",
    "plt.plot(x, order_1[-1]-super_accurate[-1], 'b' )\n",
    "plt.plot(x, order_2[-1]-super_accurate[-1], 'r' )\n",
    "#plt.plot(x, exact, 'r')"
   ]
  },
  {
   "cell_type": "code",
   "execution_count": 16,
   "metadata": {},
   "outputs": [
    {
     "name": "stderr",
     "output_type": "stream",
     "text": [
      "C:\\Users\\jithi\\anaconda3\\lib\\site-packages\\matplotlib\\cbook\\__init__.py:1289: ComplexWarning: Casting complex values to real discards the imaginary part\n",
      "  return np.asarray(x, float)\n",
      "C:\\Users\\jithi\\anaconda3\\lib\\site-packages\\matplotlib\\cbook\\__init__.py:1289: ComplexWarning: Casting complex values to real discards the imaginary part\n",
      "  return np.asarray(x, float)\n",
      "C:\\Users\\jithi\\anaconda3\\lib\\site-packages\\matplotlib\\cbook\\__init__.py:1289: ComplexWarning: Casting complex values to real discards the imaginary part\n",
      "  return np.asarray(x, float)\n",
      "C:\\Users\\jithi\\anaconda3\\lib\\site-packages\\matplotlib\\cbook\\__init__.py:1289: ComplexWarning: Casting complex values to real discards the imaginary part\n",
      "  return np.asarray(x, float)\n"
     ]
    },
    {
     "data": {
      "image/png": "[encoded data removed]",
      "text/plain": [
       "<Figure size 432x288 with 2 Axes>"
      ]
     },
     "metadata": {
      "needs_background": "light"
     },
     "output_type": "display_data"
    }
   ],
   "source": [
    "mosaic = \"\"\"\n",
    "    B\n",
    "    C\n",
    "    \"\"\"\n",
    "ax_dict = plt.figure(constrained_layout=True).subplot_mosaic(mosaic)\n",
    "str1= 'B'\n",
    "ax_dict[str1].plot(x, order_1[0], 'c')\n",
    "ax_dict[str1].plot(x, order_2[0], 'c')\n",
    "ax_dict[str1].text(2.3,0.75,'t = 0', c ='c')\n",
    "ax_dict[str1].text(5,0.25,'t = 3', c ='b')\n",
    "#ax_dict[str1].set_xlabel('x')\n",
    "#ax_dict[str1].set_ylabel('Solution')\n",
    "#ax_dict[str1].set_title('Solution at time t = 0')\n",
    "#ax_dict[str1].legend( fontsize = 6)\n",
    "str1= 'B'\n",
    "ax_dict[str1].plot(x, order_1[-1], 'b', label = 'Classic Euler')\n",
    "ax_dict[str1].plot(x, order_2[-1], 'k--', label = 'Complex 2-step')\n",
    "ax_dict[str1].set_xlabel('x')\n",
    "ax_dict[str1].set_ylabel('u(x,t)')\n",
    "ax_dict[str1].set_ylim([-0.05, 1])\n",
    "ax_dict[str1].set_title('The viscous Burgers equation  ' + r'$u_t + uu_x = \\nu u_{xx}$')\n",
    "ax_dict[str1].legend( fontsize = 8,loc = 'upper left')\n",
    "str1= 'C'\n",
    "ax_dict[str1].plot(x, np.abs(super_accurate[-1]-order_1[-1]), 'b', label = 'Classic Euler')\n",
    "ax_dict[str1].plot(x, np.abs(super_accurate[-1]-order_2[-1]), 'k--', label = 'Complex 2-step')\n",
    "ax_dict[str1].set_xlabel('x')\n",
    "ax_dict[str1].set_ylabel('Error')\n",
    "ax_dict[str1].set_title('Error at time t = 3')\n",
    "ax_dict[str1].legend( fontsize = 8, loc = 'upper left')\n",
    "plt.savefig('burgers_error_v3_1.pdf')"
   ]
  },
  {
   "cell_type": "markdown",
   "metadata": {},
   "source": [
    "### Convergence plot\n",
    "\n",
    "We create a class structure for differential equations that we want to do a convergence plot for."
   ]
  },
  {
   "cell_type": "code",
   "execution_count": 16,
   "metadata": {},
   "outputs": [],
   "source": [
    "class IVP(object):\n",
    "    def __init__(self, f=None, u0=1., t0=0., T=1., exact=None, desc='', name=''):\n",
    "        self.u0  = u0\n",
    "        self.rhs = f\n",
    "        self.T   = T\n",
    "        self.exact = exact\n",
    "        self.description = desc\n",
    "        self.t0 = t0\n",
    "        self.name = name"
   ]
  },
  {
   "cell_type": "code",
   "execution_count": 50,
   "metadata": {},
   "outputs": [],
   "source": [
    "N = 70\n",
    "x = 2*np.pi*np.arange(0,N,1)/N\n",
    "\n",
    "b = 1.5\n",
    "visc = 0.1\n",
    "\n",
    "u_init = 2*visc*np.sin(x)/(b+np.cos(x))\n",
    "u0 = u_init\n",
    "rhs = lambda t,u: -0.5*spec_diff(u**2)+visc*spec_diff(u,2)\n",
    "exact = lambda t, u0=u0: np.array([2*visc*np.exp(-visc*timepoint)*np.sin(x)/(b+np.exp(-visc*timepoint)*np.cos(x)) for timepoint in t])\n",
    "burgers = IVP(f=rhs, u0=u0, T = 2, exact = exact)"
   ]
  },
  {
   "cell_type": "code",
   "execution_count": 51,
   "metadata": {},
   "outputs": [],
   "source": [
    "def convergence_test(timesteps, schemes, ode, exact_soln =[]):\n",
    "    error_matrix = []\n",
    "    for timestep in timesteps:\n",
    "        end = ode.T\n",
    "        t = np.linspace(0, end, int(end/timestep+1))\n",
    "        if exact_soln ==[]:\n",
    "            exact = ode.exact(t)\n",
    "        else:\n",
    "            print(int(timestep/exact_soln[1]), timestep/exact_soln[1])\n",
    "            exact = np.array(exact_soln[0][::int(timestep/exact_soln[1])])\n",
    "        \n",
    "        scheme_error = []\n",
    "        for scheme in schemes:\n",
    "            if scheme == 'rk44':\n",
    "                t_sol, sol = rk4(wave, N = end/timestep+1)\n",
    "                scheme_error += [np.linalg.norm(sol-exact)]\n",
    "            else:\n",
    "                path1 = pathwise(t, scheme)\n",
    "                steps = path1[1:]-path1[:-1]\n",
    "                if isinstance(ode.u0, (list, np.ndarray)):\n",
    "                    y1 = np.zeros((len(path1), len(ode.u0)), dtype = np.clongdouble)\n",
    "                else:\n",
    "                    y1 = np.zeros((len(path1)), dtype = np.clongdouble)\n",
    "                y1[0] = ode.u0\n",
    "                i = 1\n",
    "                for step in steps:\n",
    "                    y1[i] = y1[i-1] + step*ode.rhs(path1[i-1], y1[i-1])\n",
    "                    if i%int(scheme[6])==0:\n",
    "                        y1[i] = np.real(y1[i])\n",
    "                    i += 1\n",
    "                scheme_error += [np.linalg.norm(y1[::int(scheme[6])]-exact, np.inf)]\n",
    "\n",
    "        error_matrix.append(np.array(scheme_error))\n",
    "    return np.array(error_matrix)"
   ]
  },
  {
   "cell_type": "code",
   "execution_count": 52,
   "metadata": {},
   "outputs": [
    {
     "data": {
      "text/plain": [
       "array([[1.34074470e-03, 1.39616918e-06, 2.11820891e-09],\n",
       "       [6.69946760e-04, 3.48408135e-07, 2.63574296e-10],\n",
       "       [6.69564292e-05, 3.47840135e-09, 2.66404754e-13]])"
      ]
     },
     "execution_count": 52,
     "metadata": {},
     "output_type": "execute_result"
    }
   ],
   "source": [
    "timesteps = 1*np.array([0.01, 0.005,  0.0005])\n",
    "schemes = ['Euler 1-step 1-order', 'Euler 2-step 2-order', 'Euler 3-step 3-order']#'Euler 2-step 3-order exp','Euler 4-step 5-order', 'Euler 3-step 2-order', 'Euler 3-step 1-order']\n",
    "\n",
    "#schemes = ['Euler 2-step 3-order']\n",
    "er = convergence_test(timesteps, schemes, burgers)\n",
    "er"
   ]
  },
  {
   "cell_type": "code",
   "execution_count": 32,
   "metadata": {
    "scrolled": true
   },
   "outputs": [
    {
     "data": {
      "text/plain": [
       "[<matplotlib.lines.Line2D at 0x1ef8c921340>]"
      ]
     },
     "execution_count": 32,
     "metadata": {},
     "output_type": "execute_result"
    },
    {
     "data": {
      "image/png": "[encoded data removed]",
      "text/plain": [
       "<Figure size 432x288 with 1 Axes>"
      ]
     },
     "metadata": {
      "needs_background": "light"
     },
     "output_type": "display_data"
    }
   ],
   "source": [
    "\n",
    "ax = plt.subplot(111)\n",
    "ax.loglog(timesteps, er[:, 0], 'b', label = 'Classic Euler')\n",
    "ax.loglog(timesteps, er[:, 1], 'k',label = '2-step 2-order')\n",
    "ax.loglog(timesteps, er[:, 2], 'r',label = '3-step 3-order')"
   ]
  },
  {
   "cell_type": "code",
   "execution_count": null,
   "metadata": {},
   "outputs": [],
   "source": []
  }
 ],
 "metadata": {
  "kernelspec": {
   "display_name": "Python 3",
   "language": "python",
   "name": "python3"
  },
  "language_info": {
   "codemirror_mode": {
    "name": "ipython",
    "version": 3
   },
   "file_extension": ".py",
   "mimetype": "text/x-python",
   "name": "python",
   "nbconvert_exporter": "python",
   "pygments_lexer": "ipython3",
   "version": "3.8.5"
  }
 },
 "nbformat": 4,
 "nbformat_minor": 4
}
